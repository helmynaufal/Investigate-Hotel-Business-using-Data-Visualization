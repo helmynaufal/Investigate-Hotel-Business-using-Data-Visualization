{
 "cells": [
  {
   "cell_type": "code",
   "execution_count": 1,
   "id": "1d00bc52",
   "metadata": {
    "execution": {
     "iopub.execute_input": "2023-05-07T08:58:00.157785Z",
     "iopub.status.busy": "2023-05-07T08:58:00.157017Z",
     "iopub.status.idle": "2023-05-07T08:58:01.553891Z",
     "shell.execute_reply": "2023-05-07T08:58:01.552444Z"
    },
    "papermill": {
     "duration": 1.415086,
     "end_time": "2023-05-07T08:58:01.557164",
     "exception": false,
     "start_time": "2023-05-07T08:58:00.142078",
     "status": "completed"
    },
    "tags": []
   },
   "outputs": [],
   "source": [
    "import pandas as pd\n",
    "import numpy as np\n",
    "from matplotlib import pyplot as plt\n",
    "import seaborn as sns\n",
    "import calendar\n",
    "\n",
    "pd.options.display.max_columns = None"
   ]
  },
  {
   "cell_type": "code",
   "execution_count": 2,
   "id": "e377eeb0",
   "metadata": {
    "execution": {
     "iopub.execute_input": "2023-05-07T08:58:01.581648Z",
     "iopub.status.busy": "2023-05-07T08:58:01.581219Z",
     "iopub.status.idle": "2023-05-07T08:58:02.468543Z",
     "shell.execute_reply": "2023-05-07T08:58:02.467064Z"
    },
    "papermill": {
     "duration": 0.904398,
     "end_time": "2023-05-07T08:58:02.473131",
     "exception": false,
     "start_time": "2023-05-07T08:58:01.568733",
     "status": "completed"
    },
    "tags": []
   },
   "outputs": [
    {
     "data": {
      "text/html": [
       "<div>\n",
       "<style scoped>\n",
       "    .dataframe tbody tr th:only-of-type {\n",
       "        vertical-align: middle;\n",
       "    }\n",
       "\n",
       "    .dataframe tbody tr th {\n",
       "        vertical-align: top;\n",
       "    }\n",
       "\n",
       "    .dataframe thead th {\n",
       "        text-align: right;\n",
       "    }\n",
       "</style>\n",
       "<table border=\"1\" class=\"dataframe\">\n",
       "  <thead>\n",
       "    <tr style=\"text-align: right;\">\n",
       "      <th></th>\n",
       "      <th>hotel</th>\n",
       "      <th>is_canceled</th>\n",
       "      <th>lead_time</th>\n",
       "      <th>arrival_date_year</th>\n",
       "      <th>arrival_date_month</th>\n",
       "      <th>arrival_date_week_number</th>\n",
       "      <th>arrival_date_day_of_month</th>\n",
       "      <th>stays_in_weekend_nights</th>\n",
       "      <th>stays_in_weekdays_nights</th>\n",
       "      <th>adults</th>\n",
       "      <th>children</th>\n",
       "      <th>babies</th>\n",
       "      <th>meal</th>\n",
       "      <th>city</th>\n",
       "      <th>market_segment</th>\n",
       "      <th>distribution_channel</th>\n",
       "      <th>is_repeated_guest</th>\n",
       "      <th>previous_cancellations</th>\n",
       "      <th>previous_bookings_not_canceled</th>\n",
       "      <th>booking_changes</th>\n",
       "      <th>deposit_type</th>\n",
       "      <th>agent</th>\n",
       "      <th>company</th>\n",
       "      <th>days_in_waiting_list</th>\n",
       "      <th>customer_type</th>\n",
       "      <th>adr</th>\n",
       "      <th>required_car_parking_spaces</th>\n",
       "      <th>total_of_special_requests</th>\n",
       "      <th>reservation_status</th>\n",
       "    </tr>\n",
       "  </thead>\n",
       "  <tbody>\n",
       "    <tr>\n",
       "      <th>0</th>\n",
       "      <td>Resort Hotel</td>\n",
       "      <td>0</td>\n",
       "      <td>342</td>\n",
       "      <td>2017</td>\n",
       "      <td>September</td>\n",
       "      <td>27</td>\n",
       "      <td>1</td>\n",
       "      <td>0</td>\n",
       "      <td>0</td>\n",
       "      <td>2</td>\n",
       "      <td>0.0</td>\n",
       "      <td>0</td>\n",
       "      <td>Breakfast</td>\n",
       "      <td>Kota Denpasar</td>\n",
       "      <td>Direct</td>\n",
       "      <td>Direct</td>\n",
       "      <td>0</td>\n",
       "      <td>0</td>\n",
       "      <td>0</td>\n",
       "      <td>3</td>\n",
       "      <td>No Deposit</td>\n",
       "      <td>NaN</td>\n",
       "      <td>NaN</td>\n",
       "      <td>0</td>\n",
       "      <td>Personal</td>\n",
       "      <td>0.0</td>\n",
       "      <td>0</td>\n",
       "      <td>0</td>\n",
       "      <td>Check-Out</td>\n",
       "    </tr>\n",
       "    <tr>\n",
       "      <th>1</th>\n",
       "      <td>Resort Hotel</td>\n",
       "      <td>0</td>\n",
       "      <td>737</td>\n",
       "      <td>2017</td>\n",
       "      <td>September</td>\n",
       "      <td>27</td>\n",
       "      <td>1</td>\n",
       "      <td>0</td>\n",
       "      <td>0</td>\n",
       "      <td>2</td>\n",
       "      <td>0.0</td>\n",
       "      <td>0</td>\n",
       "      <td>Breakfast</td>\n",
       "      <td>Kota Denpasar</td>\n",
       "      <td>Direct</td>\n",
       "      <td>Direct</td>\n",
       "      <td>0</td>\n",
       "      <td>0</td>\n",
       "      <td>0</td>\n",
       "      <td>4</td>\n",
       "      <td>No Deposit</td>\n",
       "      <td>NaN</td>\n",
       "      <td>NaN</td>\n",
       "      <td>0</td>\n",
       "      <td>Personal</td>\n",
       "      <td>0.0</td>\n",
       "      <td>0</td>\n",
       "      <td>0</td>\n",
       "      <td>Check-Out</td>\n",
       "    </tr>\n",
       "    <tr>\n",
       "      <th>2</th>\n",
       "      <td>Resort Hotel</td>\n",
       "      <td>0</td>\n",
       "      <td>7</td>\n",
       "      <td>2017</td>\n",
       "      <td>September</td>\n",
       "      <td>27</td>\n",
       "      <td>1</td>\n",
       "      <td>0</td>\n",
       "      <td>1</td>\n",
       "      <td>1</td>\n",
       "      <td>0.0</td>\n",
       "      <td>0</td>\n",
       "      <td>Breakfast</td>\n",
       "      <td>Kabupaten Bangka</td>\n",
       "      <td>Direct</td>\n",
       "      <td>Direct</td>\n",
       "      <td>0</td>\n",
       "      <td>0</td>\n",
       "      <td>0</td>\n",
       "      <td>0</td>\n",
       "      <td>No Deposit</td>\n",
       "      <td>NaN</td>\n",
       "      <td>NaN</td>\n",
       "      <td>0</td>\n",
       "      <td>Personal</td>\n",
       "      <td>75.0</td>\n",
       "      <td>0</td>\n",
       "      <td>0</td>\n",
       "      <td>Check-Out</td>\n",
       "    </tr>\n",
       "    <tr>\n",
       "      <th>3</th>\n",
       "      <td>Resort Hotel</td>\n",
       "      <td>0</td>\n",
       "      <td>13</td>\n",
       "      <td>2017</td>\n",
       "      <td>September</td>\n",
       "      <td>27</td>\n",
       "      <td>1</td>\n",
       "      <td>0</td>\n",
       "      <td>1</td>\n",
       "      <td>1</td>\n",
       "      <td>0.0</td>\n",
       "      <td>0</td>\n",
       "      <td>Breakfast</td>\n",
       "      <td>Kabupaten Bangka</td>\n",
       "      <td>Corporate</td>\n",
       "      <td>Corporate</td>\n",
       "      <td>0</td>\n",
       "      <td>0</td>\n",
       "      <td>0</td>\n",
       "      <td>0</td>\n",
       "      <td>No Deposit</td>\n",
       "      <td>304.0</td>\n",
       "      <td>NaN</td>\n",
       "      <td>0</td>\n",
       "      <td>Personal</td>\n",
       "      <td>75.0</td>\n",
       "      <td>0</td>\n",
       "      <td>0</td>\n",
       "      <td>Check-Out</td>\n",
       "    </tr>\n",
       "    <tr>\n",
       "      <th>4</th>\n",
       "      <td>Resort Hotel</td>\n",
       "      <td>0</td>\n",
       "      <td>14</td>\n",
       "      <td>2017</td>\n",
       "      <td>September</td>\n",
       "      <td>27</td>\n",
       "      <td>1</td>\n",
       "      <td>0</td>\n",
       "      <td>2</td>\n",
       "      <td>2</td>\n",
       "      <td>0.0</td>\n",
       "      <td>0</td>\n",
       "      <td>Breakfast</td>\n",
       "      <td>Kabupaten Bangka</td>\n",
       "      <td>Online TA</td>\n",
       "      <td>TA/TO</td>\n",
       "      <td>0</td>\n",
       "      <td>0</td>\n",
       "      <td>0</td>\n",
       "      <td>0</td>\n",
       "      <td>No Deposit</td>\n",
       "      <td>240.0</td>\n",
       "      <td>NaN</td>\n",
       "      <td>0</td>\n",
       "      <td>Personal</td>\n",
       "      <td>98.0</td>\n",
       "      <td>0</td>\n",
       "      <td>1</td>\n",
       "      <td>Check-Out</td>\n",
       "    </tr>\n",
       "  </tbody>\n",
       "</table>\n",
       "</div>"
      ],
      "text/plain": [
       "          hotel  is_canceled  lead_time  arrival_date_year arrival_date_month  \\\n",
       "0  Resort Hotel            0        342               2017          September   \n",
       "1  Resort Hotel            0        737               2017          September   \n",
       "2  Resort Hotel            0          7               2017          September   \n",
       "3  Resort Hotel            0         13               2017          September   \n",
       "4  Resort Hotel            0         14               2017          September   \n",
       "\n",
       "   arrival_date_week_number  arrival_date_day_of_month  \\\n",
       "0                        27                          1   \n",
       "1                        27                          1   \n",
       "2                        27                          1   \n",
       "3                        27                          1   \n",
       "4                        27                          1   \n",
       "\n",
       "   stays_in_weekend_nights  stays_in_weekdays_nights  adults  children  \\\n",
       "0                        0                         0       2       0.0   \n",
       "1                        0                         0       2       0.0   \n",
       "2                        0                         1       1       0.0   \n",
       "3                        0                         1       1       0.0   \n",
       "4                        0                         2       2       0.0   \n",
       "\n",
       "   babies       meal              city market_segment distribution_channel  \\\n",
       "0       0  Breakfast     Kota Denpasar         Direct               Direct   \n",
       "1       0  Breakfast     Kota Denpasar         Direct               Direct   \n",
       "2       0  Breakfast  Kabupaten Bangka         Direct               Direct   \n",
       "3       0  Breakfast  Kabupaten Bangka      Corporate            Corporate   \n",
       "4       0  Breakfast  Kabupaten Bangka      Online TA                TA/TO   \n",
       "\n",
       "   is_repeated_guest  previous_cancellations  previous_bookings_not_canceled  \\\n",
       "0                  0                       0                               0   \n",
       "1                  0                       0                               0   \n",
       "2                  0                       0                               0   \n",
       "3                  0                       0                               0   \n",
       "4                  0                       0                               0   \n",
       "\n",
       "   booking_changes deposit_type  agent  company  days_in_waiting_list  \\\n",
       "0                3   No Deposit    NaN      NaN                     0   \n",
       "1                4   No Deposit    NaN      NaN                     0   \n",
       "2                0   No Deposit    NaN      NaN                     0   \n",
       "3                0   No Deposit  304.0      NaN                     0   \n",
       "4                0   No Deposit  240.0      NaN                     0   \n",
       "\n",
       "  customer_type   adr  required_car_parking_spaces  total_of_special_requests  \\\n",
       "0      Personal   0.0                            0                          0   \n",
       "1      Personal   0.0                            0                          0   \n",
       "2      Personal  75.0                            0                          0   \n",
       "3      Personal  75.0                            0                          0   \n",
       "4      Personal  98.0                            0                          1   \n",
       "\n",
       "  reservation_status  \n",
       "0          Check-Out  \n",
       "1          Check-Out  \n",
       "2          Check-Out  \n",
       "3          Check-Out  \n",
       "4          Check-Out  "
      ]
     },
     "execution_count": 2,
     "metadata": {},
     "output_type": "execute_result"
    }
   ],
   "source": [
    "df = pd.read_csv('/kaggle/input/hotel-booking/hotel_bookings_data.csv')\n",
    "df.head()"
   ]
  },
  {
   "cell_type": "code",
   "execution_count": 3,
   "id": "35bf8db6",
   "metadata": {
    "execution": {
     "iopub.execute_input": "2023-05-07T08:58:02.499004Z",
     "iopub.status.busy": "2023-05-07T08:58:02.498521Z",
     "iopub.status.idle": "2023-05-07T08:58:02.586016Z",
     "shell.execute_reply": "2023-05-07T08:58:02.584260Z"
    },
    "papermill": {
     "duration": 0.107148,
     "end_time": "2023-05-07T08:58:02.592610",
     "exception": false,
     "start_time": "2023-05-07T08:58:02.485462",
     "status": "completed"
    },
    "tags": []
   },
   "outputs": [
    {
     "name": "stdout",
     "output_type": "stream",
     "text": [
      "<class 'pandas.core.frame.DataFrame'>\n",
      "RangeIndex: 119390 entries, 0 to 119389\n",
      "Data columns (total 29 columns):\n",
      " #   Column                          Non-Null Count   Dtype  \n",
      "---  ------                          --------------   -----  \n",
      " 0   hotel                           119390 non-null  object \n",
      " 1   is_canceled                     119390 non-null  int64  \n",
      " 2   lead_time                       119390 non-null  int64  \n",
      " 3   arrival_date_year               119390 non-null  int64  \n",
      " 4   arrival_date_month              119390 non-null  object \n",
      " 5   arrival_date_week_number        119390 non-null  int64  \n",
      " 6   arrival_date_day_of_month       119390 non-null  int64  \n",
      " 7   stays_in_weekend_nights         119390 non-null  int64  \n",
      " 8   stays_in_weekdays_nights        119390 non-null  int64  \n",
      " 9   adults                          119390 non-null  int64  \n",
      " 10  children                        119386 non-null  float64\n",
      " 11  babies                          119390 non-null  int64  \n",
      " 12  meal                            119390 non-null  object \n",
      " 13  city                            118902 non-null  object \n",
      " 14  market_segment                  119390 non-null  object \n",
      " 15  distribution_channel            119390 non-null  object \n",
      " 16  is_repeated_guest               119390 non-null  int64  \n",
      " 17  previous_cancellations          119390 non-null  int64  \n",
      " 18  previous_bookings_not_canceled  119390 non-null  int64  \n",
      " 19  booking_changes                 119390 non-null  int64  \n",
      " 20  deposit_type                    119390 non-null  object \n",
      " 21  agent                           103050 non-null  float64\n",
      " 22  company                         6797 non-null    float64\n",
      " 23  days_in_waiting_list            119390 non-null  int64  \n",
      " 24  customer_type                   119390 non-null  object \n",
      " 25  adr                             119390 non-null  float64\n",
      " 26  required_car_parking_spaces     119390 non-null  int64  \n",
      " 27  total_of_special_requests       119390 non-null  int64  \n",
      " 28  reservation_status              119390 non-null  object \n",
      "dtypes: float64(4), int64(16), object(9)\n",
      "memory usage: 26.4+ MB\n"
     ]
    }
   ],
   "source": [
    "df.info()"
   ]
  },
  {
   "cell_type": "markdown",
   "id": "b5f3bfe5",
   "metadata": {
    "papermill": {
     "duration": 0.011498,
     "end_time": "2023-05-07T08:58:02.619851",
     "exception": false,
     "start_time": "2023-05-07T08:58:02.608353",
     "status": "completed"
    },
    "tags": []
   },
   "source": [
    "# Data Preprocessing\n",
    "Transform raw data into ready-to-use data"
   ]
  },
  {
   "cell_type": "markdown",
   "id": "3ccafcd9",
   "metadata": {
    "papermill": {
     "duration": 0.011013,
     "end_time": "2023-05-07T08:58:02.642146",
     "exception": false,
     "start_time": "2023-05-07T08:58:02.631133",
     "status": "completed"
    },
    "tags": []
   },
   "source": [
    "## Handle Null Values"
   ]
  },
  {
   "cell_type": "code",
   "execution_count": 4,
   "id": "19788901",
   "metadata": {
    "execution": {
     "iopub.execute_input": "2023-05-07T08:58:02.666557Z",
     "iopub.status.busy": "2023-05-07T08:58:02.666108Z",
     "iopub.status.idle": "2023-05-07T08:58:02.731161Z",
     "shell.execute_reply": "2023-05-07T08:58:02.730173Z"
    },
    "papermill": {
     "duration": 0.080246,
     "end_time": "2023-05-07T08:58:02.733632",
     "exception": false,
     "start_time": "2023-05-07T08:58:02.653386",
     "status": "completed"
    },
    "tags": []
   },
   "outputs": [
    {
     "data": {
      "text/plain": [
       "hotel                                  0\n",
       "is_canceled                            0\n",
       "lead_time                              0\n",
       "arrival_date_year                      0\n",
       "arrival_date_month                     0\n",
       "arrival_date_week_number               0\n",
       "arrival_date_day_of_month              0\n",
       "stays_in_weekend_nights                0\n",
       "stays_in_weekdays_nights               0\n",
       "adults                                 0\n",
       "children                               4\n",
       "babies                                 0\n",
       "meal                                   0\n",
       "city                                 488\n",
       "market_segment                         0\n",
       "distribution_channel                   0\n",
       "is_repeated_guest                      0\n",
       "previous_cancellations                 0\n",
       "previous_bookings_not_canceled         0\n",
       "booking_changes                        0\n",
       "deposit_type                           0\n",
       "agent                              16340\n",
       "company                           112593\n",
       "days_in_waiting_list                   0\n",
       "customer_type                          0\n",
       "adr                                    0\n",
       "required_car_parking_spaces            0\n",
       "total_of_special_requests              0\n",
       "reservation_status                     0\n",
       "dtype: int64"
      ]
     },
     "execution_count": 4,
     "metadata": {},
     "output_type": "execute_result"
    }
   ],
   "source": [
    "df.isnull().sum()"
   ]
  },
  {
   "cell_type": "markdown",
   "id": "ccfac551",
   "metadata": {
    "papermill": {
     "duration": 0.010994,
     "end_time": "2023-05-07T08:58:02.756011",
     "exception": false,
     "start_time": "2023-05-07T08:58:02.745017",
     "status": "completed"
    },
    "tags": []
   },
   "source": [
    "There are 4 columns have null values. Let's check the value in those columns"
   ]
  },
  {
   "cell_type": "code",
   "execution_count": 5,
   "id": "23206321",
   "metadata": {
    "execution": {
     "iopub.execute_input": "2023-05-07T08:58:02.783550Z",
     "iopub.status.busy": "2023-05-07T08:58:02.782773Z",
     "iopub.status.idle": "2023-05-07T08:58:02.796505Z",
     "shell.execute_reply": "2023-05-07T08:58:02.795150Z"
    },
    "papermill": {
     "duration": 0.029628,
     "end_time": "2023-05-07T08:58:02.799339",
     "exception": false,
     "start_time": "2023-05-07T08:58:02.769711",
     "status": "completed"
    },
    "tags": []
   },
   "outputs": [
    {
     "data": {
      "text/plain": [
       "0.0     110796\n",
       "1.0       4861\n",
       "2.0       3652\n",
       "3.0         76\n",
       "10.0         1\n",
       "Name: children, dtype: int64"
      ]
     },
     "execution_count": 5,
     "metadata": {},
     "output_type": "execute_result"
    }
   ],
   "source": [
    "df['children'].value_counts()"
   ]
  },
  {
   "cell_type": "code",
   "execution_count": 6,
   "id": "59f7eead",
   "metadata": {
    "execution": {
     "iopub.execute_input": "2023-05-07T08:58:02.825890Z",
     "iopub.status.busy": "2023-05-07T08:58:02.824705Z",
     "iopub.status.idle": "2023-05-07T08:58:02.845181Z",
     "shell.execute_reply": "2023-05-07T08:58:02.843527Z"
    },
    "papermill": {
     "duration": 0.037202,
     "end_time": "2023-05-07T08:58:02.848038",
     "exception": false,
     "start_time": "2023-05-07T08:58:02.810836",
     "status": "completed"
    },
    "tags": []
   },
   "outputs": [
    {
     "data": {
      "text/plain": [
       "Kota Denpasar              48590\n",
       "Kabupaten Bangka           12129\n",
       "Kota Yogyakarta            10415\n",
       "Kota Batu                   8568\n",
       "Kabupaten Bandung           7287\n",
       "                           ...  \n",
       "Kabupaten Malang               1\n",
       "Kabupaten Bekasi               1\n",
       "Kabupaten Barito Kuala         1\n",
       "Kota Palembang                 1\n",
       "Kabupaten Maluku Tengah        1\n",
       "Name: city, Length: 177, dtype: int64"
      ]
     },
     "execution_count": 6,
     "metadata": {},
     "output_type": "execute_result"
    }
   ],
   "source": [
    "df['city'].value_counts()"
   ]
  },
  {
   "cell_type": "code",
   "execution_count": 7,
   "id": "7ecb7478",
   "metadata": {
    "execution": {
     "iopub.execute_input": "2023-05-07T08:58:02.874678Z",
     "iopub.status.busy": "2023-05-07T08:58:02.874216Z",
     "iopub.status.idle": "2023-05-07T08:58:02.888159Z",
     "shell.execute_reply": "2023-05-07T08:58:02.886724Z"
    },
    "papermill": {
     "duration": 0.030274,
     "end_time": "2023-05-07T08:58:02.890711",
     "exception": false,
     "start_time": "2023-05-07T08:58:02.860437",
     "status": "completed"
    },
    "tags": []
   },
   "outputs": [
    {
     "data": {
      "text/plain": [
       "9.0      31961\n",
       "240.0    13922\n",
       "1.0       7191\n",
       "14.0      3640\n",
       "7.0       3539\n",
       "         ...  \n",
       "289.0        1\n",
       "432.0        1\n",
       "265.0        1\n",
       "93.0         1\n",
       "304.0        1\n",
       "Name: agent, Length: 333, dtype: int64"
      ]
     },
     "execution_count": 7,
     "metadata": {},
     "output_type": "execute_result"
    }
   ],
   "source": [
    "df['agent'].value_counts()"
   ]
  },
  {
   "cell_type": "code",
   "execution_count": 8,
   "id": "c1f05784",
   "metadata": {
    "execution": {
     "iopub.execute_input": "2023-05-07T08:58:02.917881Z",
     "iopub.status.busy": "2023-05-07T08:58:02.917456Z",
     "iopub.status.idle": "2023-05-07T08:58:02.930509Z",
     "shell.execute_reply": "2023-05-07T08:58:02.928449Z"
    },
    "papermill": {
     "duration": 0.030956,
     "end_time": "2023-05-07T08:58:02.933823",
     "exception": false,
     "start_time": "2023-05-07T08:58:02.902867",
     "status": "completed"
    },
    "tags": []
   },
   "outputs": [
    {
     "data": {
      "text/plain": [
       "40.0     927\n",
       "223.0    784\n",
       "67.0     267\n",
       "45.0     250\n",
       "153.0    215\n",
       "        ... \n",
       "104.0      1\n",
       "531.0      1\n",
       "160.0      1\n",
       "413.0      1\n",
       "386.0      1\n",
       "Name: company, Length: 352, dtype: int64"
      ]
     },
     "execution_count": 8,
     "metadata": {},
     "output_type": "execute_result"
    }
   ],
   "source": [
    "df['company'].value_counts()"
   ]
  },
  {
   "cell_type": "markdown",
   "id": "33f0955e",
   "metadata": {
    "papermill": {
     "duration": 0.011607,
     "end_time": "2023-05-07T08:58:02.957485",
     "exception": false,
     "start_time": "2023-05-07T08:58:02.945878",
     "status": "completed"
    },
    "tags": []
   },
   "source": [
    "After check the value inside the columns, here what I'll do to handle the missing values:\n",
    "- For `children` `agent` and `company` columns will be filled with 0\n",
    "- For `city` column will be filled with No City"
   ]
  },
  {
   "cell_type": "code",
   "execution_count": 9,
   "id": "f7c6b113",
   "metadata": {
    "execution": {
     "iopub.execute_input": "2023-05-07T08:58:02.984536Z",
     "iopub.status.busy": "2023-05-07T08:58:02.984090Z",
     "iopub.status.idle": "2023-05-07T08:58:03.001274Z",
     "shell.execute_reply": "2023-05-07T08:58:02.999238Z"
    },
    "papermill": {
     "duration": 0.035327,
     "end_time": "2023-05-07T08:58:03.004836",
     "exception": false,
     "start_time": "2023-05-07T08:58:02.969509",
     "status": "completed"
    },
    "tags": []
   },
   "outputs": [],
   "source": [
    "df['children'].fillna(0, inplace=True)\n",
    "df['agent'].fillna(0, inplace=True)\n",
    "df['company'].fillna(0, inplace=True)\n",
    "df['city'].fillna('No City', inplace=True)"
   ]
  },
  {
   "cell_type": "code",
   "execution_count": 10,
   "id": "e284354f",
   "metadata": {
    "execution": {
     "iopub.execute_input": "2023-05-07T08:58:03.032607Z",
     "iopub.status.busy": "2023-05-07T08:58:03.031402Z",
     "iopub.status.idle": "2023-05-07T08:58:03.098166Z",
     "shell.execute_reply": "2023-05-07T08:58:03.096856Z"
    },
    "papermill": {
     "duration": 0.083262,
     "end_time": "2023-05-07T08:58:03.101006",
     "exception": false,
     "start_time": "2023-05-07T08:58:03.017744",
     "status": "completed"
    },
    "tags": []
   },
   "outputs": [
    {
     "data": {
      "text/plain": [
       "hotel                             0\n",
       "is_canceled                       0\n",
       "lead_time                         0\n",
       "arrival_date_year                 0\n",
       "arrival_date_month                0\n",
       "arrival_date_week_number          0\n",
       "arrival_date_day_of_month         0\n",
       "stays_in_weekend_nights           0\n",
       "stays_in_weekdays_nights          0\n",
       "adults                            0\n",
       "children                          0\n",
       "babies                            0\n",
       "meal                              0\n",
       "city                              0\n",
       "market_segment                    0\n",
       "distribution_channel              0\n",
       "is_repeated_guest                 0\n",
       "previous_cancellations            0\n",
       "previous_bookings_not_canceled    0\n",
       "booking_changes                   0\n",
       "deposit_type                      0\n",
       "agent                             0\n",
       "company                           0\n",
       "days_in_waiting_list              0\n",
       "customer_type                     0\n",
       "adr                               0\n",
       "required_car_parking_spaces       0\n",
       "total_of_special_requests         0\n",
       "reservation_status                0\n",
       "dtype: int64"
      ]
     },
     "execution_count": 10,
     "metadata": {},
     "output_type": "execute_result"
    }
   ],
   "source": [
    "df.isnull().sum()"
   ]
  },
  {
   "cell_type": "markdown",
   "id": "8af23274",
   "metadata": {
    "papermill": {
     "duration": 0.011714,
     "end_time": "2023-05-07T08:58:03.124921",
     "exception": false,
     "start_time": "2023-05-07T08:58:03.113207",
     "status": "completed"
    },
    "tags": []
   },
   "source": [
    "## Replace Similar Values"
   ]
  },
  {
   "cell_type": "code",
   "execution_count": 11,
   "id": "e3de6bb7",
   "metadata": {
    "execution": {
     "iopub.execute_input": "2023-05-07T08:58:03.151665Z",
     "iopub.status.busy": "2023-05-07T08:58:03.150641Z",
     "iopub.status.idle": "2023-05-07T08:58:03.169676Z",
     "shell.execute_reply": "2023-05-07T08:58:03.168437Z"
    },
    "papermill": {
     "duration": 0.035483,
     "end_time": "2023-05-07T08:58:03.172467",
     "exception": false,
     "start_time": "2023-05-07T08:58:03.136984",
     "status": "completed"
    },
    "tags": []
   },
   "outputs": [
    {
     "data": {
      "text/plain": [
       "Breakfast     92310\n",
       "Dinner        14463\n",
       "No Meal       10650\n",
       "Undefined      1169\n",
       "Full Board      798\n",
       "Name: meal, dtype: int64"
      ]
     },
     "execution_count": 11,
     "metadata": {},
     "output_type": "execute_result"
    }
   ],
   "source": [
    "df['meal'].value_counts()"
   ]
  },
  {
   "cell_type": "markdown",
   "id": "d61bd440",
   "metadata": {
    "papermill": {
     "duration": 0.01197,
     "end_time": "2023-05-07T08:58:03.196612",
     "exception": false,
     "start_time": "2023-05-07T08:58:03.184642",
     "status": "completed"
    },
    "tags": []
   },
   "source": [
    "Here I found similar values on Undefined and No Meal which can be merged into one value. I will replace Undefined to No Meal."
   ]
  },
  {
   "cell_type": "code",
   "execution_count": 12,
   "id": "d2ce2b4a",
   "metadata": {
    "execution": {
     "iopub.execute_input": "2023-05-07T08:58:03.223179Z",
     "iopub.status.busy": "2023-05-07T08:58:03.222234Z",
     "iopub.status.idle": "2023-05-07T08:58:03.232770Z",
     "shell.execute_reply": "2023-05-07T08:58:03.231383Z"
    },
    "papermill": {
     "duration": 0.026708,
     "end_time": "2023-05-07T08:58:03.235437",
     "exception": false,
     "start_time": "2023-05-07T08:58:03.208729",
     "status": "completed"
    },
    "tags": []
   },
   "outputs": [],
   "source": [
    "df['meal'].replace('Undefined', 'No Meal', inplace=True)"
   ]
  },
  {
   "cell_type": "markdown",
   "id": "7985d625",
   "metadata": {
    "papermill": {
     "duration": 0.011932,
     "end_time": "2023-05-07T08:58:03.260164",
     "exception": false,
     "start_time": "2023-05-07T08:58:03.248232",
     "status": "completed"
    },
    "tags": []
   },
   "source": [
    "## Drop Unused Values"
   ]
  },
  {
   "cell_type": "markdown",
   "id": "061ed097",
   "metadata": {
    "papermill": {
     "duration": 0.012054,
     "end_time": "2023-05-07T08:58:03.284424",
     "exception": false,
     "start_time": "2023-05-07T08:58:03.272370",
     "status": "completed"
    },
    "tags": []
   },
   "source": [
    "I create a `guest` column to count the total guest that comes from the sum of columns `adults` `children` and `babies`. Then I will drop these 3 columns because its already represented by the `guest` column"
   ]
  },
  {
   "cell_type": "code",
   "execution_count": 13,
   "id": "b5b352e3",
   "metadata": {
    "execution": {
     "iopub.execute_input": "2023-05-07T08:58:03.310837Z",
     "iopub.status.busy": "2023-05-07T08:58:03.310365Z",
     "iopub.status.idle": "2023-05-07T08:58:03.336864Z",
     "shell.execute_reply": "2023-05-07T08:58:03.335356Z"
    },
    "papermill": {
     "duration": 0.043352,
     "end_time": "2023-05-07T08:58:03.339825",
     "exception": false,
     "start_time": "2023-05-07T08:58:03.296473",
     "status": "completed"
    },
    "tags": []
   },
   "outputs": [],
   "source": [
    "df.insert(12, 'guest', df['adults'] + df['children'] + df['babies'])\n",
    "df.drop(['adults', 'children', 'babies'], axis=1, inplace=True)"
   ]
  },
  {
   "cell_type": "code",
   "execution_count": 14,
   "id": "6b3a3553",
   "metadata": {
    "execution": {
     "iopub.execute_input": "2023-05-07T08:58:03.366866Z",
     "iopub.status.busy": "2023-05-07T08:58:03.365716Z",
     "iopub.status.idle": "2023-05-07T08:58:03.379275Z",
     "shell.execute_reply": "2023-05-07T08:58:03.378016Z"
    },
    "papermill": {
     "duration": 0.029994,
     "end_time": "2023-05-07T08:58:03.382093",
     "exception": false,
     "start_time": "2023-05-07T08:58:03.352099",
     "status": "completed"
    },
    "tags": []
   },
   "outputs": [
    {
     "data": {
      "text/plain": [
       "2.0     82051\n",
       "1.0     22581\n",
       "3.0     10495\n",
       "4.0      3929\n",
       "0.0       180\n",
       "5.0       137\n",
       "26.0        5\n",
       "12.0        2\n",
       "27.0        2\n",
       "20.0        2\n",
       "10.0        2\n",
       "40.0        1\n",
       "50.0        1\n",
       "55.0        1\n",
       "6.0         1\n",
       "Name: guest, dtype: int64"
      ]
     },
     "execution_count": 14,
     "metadata": {},
     "output_type": "execute_result"
    }
   ],
   "source": [
    "df['guest'].value_counts()"
   ]
  },
  {
   "cell_type": "markdown",
   "id": "ddb59c9b",
   "metadata": {
    "papermill": {
     "duration": 0.012117,
     "end_time": "2023-05-07T08:58:03.406549",
     "exception": false,
     "start_time": "2023-05-07T08:58:03.394432",
     "status": "completed"
    },
    "tags": []
   },
   "source": [
    "We can see above there is a 0 guest, which is a bit odd for a booking with no guest. So, I decided to replace the value with 1 because at least there must be 1 adult on the booking list."
   ]
  },
  {
   "cell_type": "code",
   "execution_count": 15,
   "id": "ee5c839d",
   "metadata": {
    "execution": {
     "iopub.execute_input": "2023-05-07T08:58:03.435260Z",
     "iopub.status.busy": "2023-05-07T08:58:03.433771Z",
     "iopub.status.idle": "2023-05-07T08:58:03.441834Z",
     "shell.execute_reply": "2023-05-07T08:58:03.440050Z"
    },
    "papermill": {
     "duration": 0.025557,
     "end_time": "2023-05-07T08:58:03.444966",
     "exception": false,
     "start_time": "2023-05-07T08:58:03.419409",
     "status": "completed"
    },
    "tags": []
   },
   "outputs": [],
   "source": [
    "df['guest'].replace(0, 1, inplace=True)"
   ]
  },
  {
   "cell_type": "markdown",
   "id": "7f915b80",
   "metadata": {
    "papermill": {
     "duration": 0.011932,
     "end_time": "2023-05-07T08:58:03.469247",
     "exception": false,
     "start_time": "2023-05-07T08:58:03.457315",
     "status": "completed"
    },
    "tags": []
   },
   "source": [
    "# Monthly Hotel Booking Analysis Based on Hotel Type\n",
    "Which month or season the hotel booking will increase for each type of hotel?"
   ]
  },
  {
   "cell_type": "markdown",
   "id": "35981a59",
   "metadata": {
    "papermill": {
     "duration": 0.011794,
     "end_time": "2023-05-07T08:58:03.493206",
     "exception": false,
     "start_time": "2023-05-07T08:58:03.481412",
     "status": "completed"
    },
    "tags": []
   },
   "source": [
    "First, I will aggregate the total bookings by years and months."
   ]
  },
  {
   "cell_type": "code",
   "execution_count": 16,
   "id": "5b222317",
   "metadata": {
    "execution": {
     "iopub.execute_input": "2023-05-07T08:58:03.520581Z",
     "iopub.status.busy": "2023-05-07T08:58:03.518766Z",
     "iopub.status.idle": "2023-05-07T08:58:03.571452Z",
     "shell.execute_reply": "2023-05-07T08:58:03.570094Z"
    },
    "papermill": {
     "duration": 0.069424,
     "end_time": "2023-05-07T08:58:03.574717",
     "exception": false,
     "start_time": "2023-05-07T08:58:03.505293",
     "status": "completed"
    },
    "tags": []
   },
   "outputs": [
    {
     "data": {
      "text/html": [
       "<div>\n",
       "<style scoped>\n",
       "    .dataframe tbody tr th:only-of-type {\n",
       "        vertical-align: middle;\n",
       "    }\n",
       "\n",
       "    .dataframe tbody tr th {\n",
       "        vertical-align: top;\n",
       "    }\n",
       "\n",
       "    .dataframe thead th {\n",
       "        text-align: right;\n",
       "    }\n",
       "</style>\n",
       "<table border=\"1\" class=\"dataframe\">\n",
       "  <thead>\n",
       "    <tr style=\"text-align: right;\">\n",
       "      <th></th>\n",
       "      <th>hotel</th>\n",
       "      <th>is_canceled</th>\n",
       "      <th>lead_time</th>\n",
       "      <th>arrival_date_year</th>\n",
       "      <th>arrival_date_month</th>\n",
       "      <th>arrival_date_week_number</th>\n",
       "      <th>arrival_date_day_of_month</th>\n",
       "      <th>stays_in_weekend_nights</th>\n",
       "      <th>stays_in_weekdays_nights</th>\n",
       "      <th>guest</th>\n",
       "      <th>meal</th>\n",
       "      <th>city</th>\n",
       "      <th>market_segment</th>\n",
       "      <th>distribution_channel</th>\n",
       "      <th>is_repeated_guest</th>\n",
       "      <th>previous_cancellations</th>\n",
       "      <th>previous_bookings_not_canceled</th>\n",
       "      <th>booking_changes</th>\n",
       "      <th>deposit_type</th>\n",
       "      <th>agent</th>\n",
       "      <th>company</th>\n",
       "      <th>days_in_waiting_list</th>\n",
       "      <th>customer_type</th>\n",
       "      <th>adr</th>\n",
       "      <th>required_car_parking_spaces</th>\n",
       "      <th>total_of_special_requests</th>\n",
       "      <th>reservation_status</th>\n",
       "    </tr>\n",
       "  </thead>\n",
       "  <tbody>\n",
       "    <tr>\n",
       "      <th>3271</th>\n",
       "      <td>Resort Hotel</td>\n",
       "      <td>0</td>\n",
       "      <td>20</td>\n",
       "      <td>2017</td>\n",
       "      <td>February</td>\n",
       "      <td>49</td>\n",
       "      <td>1</td>\n",
       "      <td>0</td>\n",
       "      <td>0</td>\n",
       "      <td>1.0</td>\n",
       "      <td>Breakfast</td>\n",
       "      <td>Kota Denpasar</td>\n",
       "      <td>Online TA</td>\n",
       "      <td>TA/TO</td>\n",
       "      <td>0</td>\n",
       "      <td>0</td>\n",
       "      <td>0</td>\n",
       "      <td>0</td>\n",
       "      <td>No Deposit</td>\n",
       "      <td>240.0</td>\n",
       "      <td>0.0</td>\n",
       "      <td>0</td>\n",
       "      <td>Personal</td>\n",
       "      <td>0.00</td>\n",
       "      <td>0</td>\n",
       "      <td>0</td>\n",
       "      <td>Check-Out</td>\n",
       "    </tr>\n",
       "    <tr>\n",
       "      <th>3272</th>\n",
       "      <td>Resort Hotel</td>\n",
       "      <td>0</td>\n",
       "      <td>118</td>\n",
       "      <td>2017</td>\n",
       "      <td>February</td>\n",
       "      <td>49</td>\n",
       "      <td>1</td>\n",
       "      <td>0</td>\n",
       "      <td>5</td>\n",
       "      <td>2.0</td>\n",
       "      <td>Breakfast</td>\n",
       "      <td>Kota Denpasar</td>\n",
       "      <td>Online TA</td>\n",
       "      <td>TA/TO</td>\n",
       "      <td>0</td>\n",
       "      <td>0</td>\n",
       "      <td>0</td>\n",
       "      <td>0</td>\n",
       "      <td>No Deposit</td>\n",
       "      <td>240.0</td>\n",
       "      <td>0.0</td>\n",
       "      <td>0</td>\n",
       "      <td>Personal</td>\n",
       "      <td>32.40</td>\n",
       "      <td>0</td>\n",
       "      <td>1</td>\n",
       "      <td>Check-Out</td>\n",
       "    </tr>\n",
       "    <tr>\n",
       "      <th>3273</th>\n",
       "      <td>Resort Hotel</td>\n",
       "      <td>1</td>\n",
       "      <td>87</td>\n",
       "      <td>2017</td>\n",
       "      <td>February</td>\n",
       "      <td>49</td>\n",
       "      <td>1</td>\n",
       "      <td>2</td>\n",
       "      <td>5</td>\n",
       "      <td>2.0</td>\n",
       "      <td>Breakfast</td>\n",
       "      <td>Kota Denpasar</td>\n",
       "      <td>Online TA</td>\n",
       "      <td>TA/TO</td>\n",
       "      <td>0</td>\n",
       "      <td>0</td>\n",
       "      <td>0</td>\n",
       "      <td>0</td>\n",
       "      <td>No Deposit</td>\n",
       "      <td>240.0</td>\n",
       "      <td>0.0</td>\n",
       "      <td>0</td>\n",
       "      <td>Personal</td>\n",
       "      <td>50.40</td>\n",
       "      <td>0</td>\n",
       "      <td>1</td>\n",
       "      <td>Canceled</td>\n",
       "    </tr>\n",
       "    <tr>\n",
       "      <th>3274</th>\n",
       "      <td>Resort Hotel</td>\n",
       "      <td>0</td>\n",
       "      <td>118</td>\n",
       "      <td>2017</td>\n",
       "      <td>February</td>\n",
       "      <td>49</td>\n",
       "      <td>1</td>\n",
       "      <td>2</td>\n",
       "      <td>5</td>\n",
       "      <td>2.0</td>\n",
       "      <td>Breakfast</td>\n",
       "      <td>Kabupaten Magelang</td>\n",
       "      <td>Online TA</td>\n",
       "      <td>TA/TO</td>\n",
       "      <td>0</td>\n",
       "      <td>0</td>\n",
       "      <td>0</td>\n",
       "      <td>0</td>\n",
       "      <td>No Deposit</td>\n",
       "      <td>240.0</td>\n",
       "      <td>0.0</td>\n",
       "      <td>0</td>\n",
       "      <td>Personal</td>\n",
       "      <td>29.16</td>\n",
       "      <td>0</td>\n",
       "      <td>1</td>\n",
       "      <td>Check-Out</td>\n",
       "    </tr>\n",
       "    <tr>\n",
       "      <th>3275</th>\n",
       "      <td>Resort Hotel</td>\n",
       "      <td>0</td>\n",
       "      <td>82</td>\n",
       "      <td>2017</td>\n",
       "      <td>February</td>\n",
       "      <td>49</td>\n",
       "      <td>2</td>\n",
       "      <td>0</td>\n",
       "      <td>0</td>\n",
       "      <td>2.0</td>\n",
       "      <td>Breakfast</td>\n",
       "      <td>Kota Denpasar</td>\n",
       "      <td>Online TA</td>\n",
       "      <td>TA/TO</td>\n",
       "      <td>0</td>\n",
       "      <td>0</td>\n",
       "      <td>0</td>\n",
       "      <td>0</td>\n",
       "      <td>No Deposit</td>\n",
       "      <td>240.0</td>\n",
       "      <td>0.0</td>\n",
       "      <td>0</td>\n",
       "      <td>Personal</td>\n",
       "      <td>0.00</td>\n",
       "      <td>0</td>\n",
       "      <td>2</td>\n",
       "      <td>Check-Out</td>\n",
       "    </tr>\n",
       "    <tr>\n",
       "      <th>...</th>\n",
       "      <td>...</td>\n",
       "      <td>...</td>\n",
       "      <td>...</td>\n",
       "      <td>...</td>\n",
       "      <td>...</td>\n",
       "      <td>...</td>\n",
       "      <td>...</td>\n",
       "      <td>...</td>\n",
       "      <td>...</td>\n",
       "      <td>...</td>\n",
       "      <td>...</td>\n",
       "      <td>...</td>\n",
       "      <td>...</td>\n",
       "      <td>...</td>\n",
       "      <td>...</td>\n",
       "      <td>...</td>\n",
       "      <td>...</td>\n",
       "      <td>...</td>\n",
       "      <td>...</td>\n",
       "      <td>...</td>\n",
       "      <td>...</td>\n",
       "      <td>...</td>\n",
       "      <td>...</td>\n",
       "      <td>...</td>\n",
       "      <td>...</td>\n",
       "      <td>...</td>\n",
       "      <td>...</td>\n",
       "    </tr>\n",
       "    <tr>\n",
       "      <th>82699</th>\n",
       "      <td>City Hotel</td>\n",
       "      <td>0</td>\n",
       "      <td>69</td>\n",
       "      <td>2017</td>\n",
       "      <td>February</td>\n",
       "      <td>53</td>\n",
       "      <td>29</td>\n",
       "      <td>2</td>\n",
       "      <td>5</td>\n",
       "      <td>2.0</td>\n",
       "      <td>Breakfast</td>\n",
       "      <td>Kota Denpasar</td>\n",
       "      <td>Online TA</td>\n",
       "      <td>TA/TO</td>\n",
       "      <td>0</td>\n",
       "      <td>0</td>\n",
       "      <td>0</td>\n",
       "      <td>0</td>\n",
       "      <td>No Deposit</td>\n",
       "      <td>9.0</td>\n",
       "      <td>0.0</td>\n",
       "      <td>0</td>\n",
       "      <td>Contract</td>\n",
       "      <td>92.43</td>\n",
       "      <td>0</td>\n",
       "      <td>0</td>\n",
       "      <td>Check-Out</td>\n",
       "    </tr>\n",
       "    <tr>\n",
       "      <th>82704</th>\n",
       "      <td>City Hotel</td>\n",
       "      <td>0</td>\n",
       "      <td>57</td>\n",
       "      <td>2017</td>\n",
       "      <td>February</td>\n",
       "      <td>52</td>\n",
       "      <td>26</td>\n",
       "      <td>4</td>\n",
       "      <td>6</td>\n",
       "      <td>3.0</td>\n",
       "      <td>Breakfast</td>\n",
       "      <td>Kabupaten Sumedang</td>\n",
       "      <td>Online TA</td>\n",
       "      <td>TA/TO</td>\n",
       "      <td>0</td>\n",
       "      <td>0</td>\n",
       "      <td>0</td>\n",
       "      <td>1</td>\n",
       "      <td>No Deposit</td>\n",
       "      <td>11.0</td>\n",
       "      <td>0.0</td>\n",
       "      <td>0</td>\n",
       "      <td>Personal</td>\n",
       "      <td>113.85</td>\n",
       "      <td>0</td>\n",
       "      <td>0</td>\n",
       "      <td>Check-Out</td>\n",
       "    </tr>\n",
       "    <tr>\n",
       "      <th>82732</th>\n",
       "      <td>City Hotel</td>\n",
       "      <td>0</td>\n",
       "      <td>77</td>\n",
       "      <td>2017</td>\n",
       "      <td>February</td>\n",
       "      <td>53</td>\n",
       "      <td>31</td>\n",
       "      <td>2</td>\n",
       "      <td>4</td>\n",
       "      <td>2.0</td>\n",
       "      <td>Breakfast</td>\n",
       "      <td>Kabupaten Kepulauan Seribu</td>\n",
       "      <td>Online TA</td>\n",
       "      <td>TA/TO</td>\n",
       "      <td>0</td>\n",
       "      <td>0</td>\n",
       "      <td>0</td>\n",
       "      <td>0</td>\n",
       "      <td>No Deposit</td>\n",
       "      <td>9.0</td>\n",
       "      <td>0.0</td>\n",
       "      <td>0</td>\n",
       "      <td>Contract</td>\n",
       "      <td>100.97</td>\n",
       "      <td>0</td>\n",
       "      <td>1</td>\n",
       "      <td>Check-Out</td>\n",
       "    </tr>\n",
       "    <tr>\n",
       "      <th>82960</th>\n",
       "      <td>City Hotel</td>\n",
       "      <td>0</td>\n",
       "      <td>1</td>\n",
       "      <td>2017</td>\n",
       "      <td>February</td>\n",
       "      <td>50</td>\n",
       "      <td>12</td>\n",
       "      <td>0</td>\n",
       "      <td>1</td>\n",
       "      <td>1.0</td>\n",
       "      <td>Breakfast</td>\n",
       "      <td>Kota Denpasar</td>\n",
       "      <td>Offline TA/TO</td>\n",
       "      <td>TA/TO</td>\n",
       "      <td>0</td>\n",
       "      <td>0</td>\n",
       "      <td>2</td>\n",
       "      <td>1</td>\n",
       "      <td>No Deposit</td>\n",
       "      <td>94.0</td>\n",
       "      <td>0.0</td>\n",
       "      <td>0</td>\n",
       "      <td>Personal</td>\n",
       "      <td>0.00</td>\n",
       "      <td>0</td>\n",
       "      <td>0</td>\n",
       "      <td>Check-Out</td>\n",
       "    </tr>\n",
       "    <tr>\n",
       "      <th>82974</th>\n",
       "      <td>City Hotel</td>\n",
       "      <td>0</td>\n",
       "      <td>0</td>\n",
       "      <td>2017</td>\n",
       "      <td>February</td>\n",
       "      <td>51</td>\n",
       "      <td>16</td>\n",
       "      <td>0</td>\n",
       "      <td>1</td>\n",
       "      <td>1.0</td>\n",
       "      <td>Breakfast</td>\n",
       "      <td>Kota Denpasar</td>\n",
       "      <td>Complementary</td>\n",
       "      <td>Direct</td>\n",
       "      <td>0</td>\n",
       "      <td>0</td>\n",
       "      <td>0</td>\n",
       "      <td>0</td>\n",
       "      <td>No Deposit</td>\n",
       "      <td>45.0</td>\n",
       "      <td>0.0</td>\n",
       "      <td>0</td>\n",
       "      <td>Personal</td>\n",
       "      <td>0.00</td>\n",
       "      <td>0</td>\n",
       "      <td>0</td>\n",
       "      <td>Check-Out</td>\n",
       "    </tr>\n",
       "  </tbody>\n",
       "</table>\n",
       "<p>2920 rows × 27 columns</p>\n",
       "</div>"
      ],
      "text/plain": [
       "              hotel  is_canceled  lead_time  arrival_date_year  \\\n",
       "3271   Resort Hotel            0         20               2017   \n",
       "3272   Resort Hotel            0        118               2017   \n",
       "3273   Resort Hotel            1         87               2017   \n",
       "3274   Resort Hotel            0        118               2017   \n",
       "3275   Resort Hotel            0         82               2017   \n",
       "...             ...          ...        ...                ...   \n",
       "82699    City Hotel            0         69               2017   \n",
       "82704    City Hotel            0         57               2017   \n",
       "82732    City Hotel            0         77               2017   \n",
       "82960    City Hotel            0          1               2017   \n",
       "82974    City Hotel            0          0               2017   \n",
       "\n",
       "      arrival_date_month  arrival_date_week_number  arrival_date_day_of_month  \\\n",
       "3271            February                        49                          1   \n",
       "3272            February                        49                          1   \n",
       "3273            February                        49                          1   \n",
       "3274            February                        49                          1   \n",
       "3275            February                        49                          2   \n",
       "...                  ...                       ...                        ...   \n",
       "82699           February                        53                         29   \n",
       "82704           February                        52                         26   \n",
       "82732           February                        53                         31   \n",
       "82960           February                        50                         12   \n",
       "82974           February                        51                         16   \n",
       "\n",
       "       stays_in_weekend_nights  stays_in_weekdays_nights  guest       meal  \\\n",
       "3271                         0                         0    1.0  Breakfast   \n",
       "3272                         0                         5    2.0  Breakfast   \n",
       "3273                         2                         5    2.0  Breakfast   \n",
       "3274                         2                         5    2.0  Breakfast   \n",
       "3275                         0                         0    2.0  Breakfast   \n",
       "...                        ...                       ...    ...        ...   \n",
       "82699                        2                         5    2.0  Breakfast   \n",
       "82704                        4                         6    3.0  Breakfast   \n",
       "82732                        2                         4    2.0  Breakfast   \n",
       "82960                        0                         1    1.0  Breakfast   \n",
       "82974                        0                         1    1.0  Breakfast   \n",
       "\n",
       "                             city market_segment distribution_channel  \\\n",
       "3271                Kota Denpasar      Online TA                TA/TO   \n",
       "3272                Kota Denpasar      Online TA                TA/TO   \n",
       "3273                Kota Denpasar      Online TA                TA/TO   \n",
       "3274           Kabupaten Magelang      Online TA                TA/TO   \n",
       "3275                Kota Denpasar      Online TA                TA/TO   \n",
       "...                           ...            ...                  ...   \n",
       "82699               Kota Denpasar      Online TA                TA/TO   \n",
       "82704          Kabupaten Sumedang      Online TA                TA/TO   \n",
       "82732  Kabupaten Kepulauan Seribu      Online TA                TA/TO   \n",
       "82960               Kota Denpasar  Offline TA/TO                TA/TO   \n",
       "82974               Kota Denpasar  Complementary               Direct   \n",
       "\n",
       "       is_repeated_guest  previous_cancellations  \\\n",
       "3271                   0                       0   \n",
       "3272                   0                       0   \n",
       "3273                   0                       0   \n",
       "3274                   0                       0   \n",
       "3275                   0                       0   \n",
       "...                  ...                     ...   \n",
       "82699                  0                       0   \n",
       "82704                  0                       0   \n",
       "82732                  0                       0   \n",
       "82960                  0                       0   \n",
       "82974                  0                       0   \n",
       "\n",
       "       previous_bookings_not_canceled  booking_changes deposit_type  agent  \\\n",
       "3271                                0                0   No Deposit  240.0   \n",
       "3272                                0                0   No Deposit  240.0   \n",
       "3273                                0                0   No Deposit  240.0   \n",
       "3274                                0                0   No Deposit  240.0   \n",
       "3275                                0                0   No Deposit  240.0   \n",
       "...                               ...              ...          ...    ...   \n",
       "82699                               0                0   No Deposit    9.0   \n",
       "82704                               0                1   No Deposit   11.0   \n",
       "82732                               0                0   No Deposit    9.0   \n",
       "82960                               2                1   No Deposit   94.0   \n",
       "82974                               0                0   No Deposit   45.0   \n",
       "\n",
       "       company  days_in_waiting_list customer_type     adr  \\\n",
       "3271       0.0                     0      Personal    0.00   \n",
       "3272       0.0                     0      Personal   32.40   \n",
       "3273       0.0                     0      Personal   50.40   \n",
       "3274       0.0                     0      Personal   29.16   \n",
       "3275       0.0                     0      Personal    0.00   \n",
       "...        ...                   ...           ...     ...   \n",
       "82699      0.0                     0      Contract   92.43   \n",
       "82704      0.0                     0      Personal  113.85   \n",
       "82732      0.0                     0      Contract  100.97   \n",
       "82960      0.0                     0      Personal    0.00   \n",
       "82974      0.0                     0      Personal    0.00   \n",
       "\n",
       "       required_car_parking_spaces  total_of_special_requests  \\\n",
       "3271                             0                          0   \n",
       "3272                             0                          1   \n",
       "3273                             0                          1   \n",
       "3274                             0                          1   \n",
       "3275                             0                          2   \n",
       "...                            ...                        ...   \n",
       "82699                            0                          0   \n",
       "82704                            0                          0   \n",
       "82732                            0                          1   \n",
       "82960                            0                          0   \n",
       "82974                            0                          0   \n",
       "\n",
       "      reservation_status  \n",
       "3271           Check-Out  \n",
       "3272           Check-Out  \n",
       "3273            Canceled  \n",
       "3274           Check-Out  \n",
       "3275           Check-Out  \n",
       "...                  ...  \n",
       "82699          Check-Out  \n",
       "82704          Check-Out  \n",
       "82732          Check-Out  \n",
       "82960          Check-Out  \n",
       "82974          Check-Out  \n",
       "\n",
       "[2920 rows x 27 columns]"
      ]
     },
     "execution_count": 16,
     "metadata": {},
     "output_type": "execute_result"
    }
   ],
   "source": [
    "df[(df['arrival_date_year'] == 2017) & (df['arrival_date_month'] == 'February')]"
   ]
  },
  {
   "cell_type": "code",
   "execution_count": 17,
   "id": "3481c0df",
   "metadata": {
    "execution": {
     "iopub.execute_input": "2023-05-07T08:58:03.603499Z",
     "iopub.status.busy": "2023-05-07T08:58:03.602188Z",
     "iopub.status.idle": "2023-05-07T08:58:03.640881Z",
     "shell.execute_reply": "2023-05-07T08:58:03.639414Z"
    },
    "papermill": {
     "duration": 0.056243,
     "end_time": "2023-05-07T08:58:03.644043",
     "exception": false,
     "start_time": "2023-05-07T08:58:03.587800",
     "status": "completed"
    },
    "tags": []
   },
   "outputs": [
    {
     "data": {
      "text/html": [
       "<div>\n",
       "<style scoped>\n",
       "    .dataframe tbody tr th:only-of-type {\n",
       "        vertical-align: middle;\n",
       "    }\n",
       "\n",
       "    .dataframe tbody tr th {\n",
       "        vertical-align: top;\n",
       "    }\n",
       "\n",
       "    .dataframe thead th {\n",
       "        text-align: right;\n",
       "    }\n",
       "</style>\n",
       "<table border=\"1\" class=\"dataframe\">\n",
       "  <thead>\n",
       "    <tr style=\"text-align: right;\">\n",
       "      <th></th>\n",
       "      <th>arrival_date_year</th>\n",
       "      <th>arrival_date_month</th>\n",
       "      <th>Total</th>\n",
       "    </tr>\n",
       "  </thead>\n",
       "  <tbody>\n",
       "    <tr>\n",
       "      <th>0</th>\n",
       "      <td>2017</td>\n",
       "      <td>December</td>\n",
       "      <td>4957</td>\n",
       "    </tr>\n",
       "    <tr>\n",
       "      <th>1</th>\n",
       "      <td>2017</td>\n",
       "      <td>February</td>\n",
       "      <td>2920</td>\n",
       "    </tr>\n",
       "    <tr>\n",
       "      <th>2</th>\n",
       "      <td>2017</td>\n",
       "      <td>January</td>\n",
       "      <td>2340</td>\n",
       "    </tr>\n",
       "    <tr>\n",
       "      <th>3</th>\n",
       "      <td>2017</td>\n",
       "      <td>November</td>\n",
       "      <td>5114</td>\n",
       "    </tr>\n",
       "    <tr>\n",
       "      <th>4</th>\n",
       "      <td>2017</td>\n",
       "      <td>October</td>\n",
       "      <td>3889</td>\n",
       "    </tr>\n",
       "    <tr>\n",
       "      <th>5</th>\n",
       "      <td>2017</td>\n",
       "      <td>September</td>\n",
       "      <td>2776</td>\n",
       "    </tr>\n",
       "    <tr>\n",
       "      <th>6</th>\n",
       "      <td>2018</td>\n",
       "      <td>April</td>\n",
       "      <td>3891</td>\n",
       "    </tr>\n",
       "    <tr>\n",
       "      <th>7</th>\n",
       "      <td>2018</td>\n",
       "      <td>August</td>\n",
       "      <td>5292</td>\n",
       "    </tr>\n",
       "    <tr>\n",
       "      <th>8</th>\n",
       "      <td>2018</td>\n",
       "      <td>December</td>\n",
       "      <td>6203</td>\n",
       "    </tr>\n",
       "    <tr>\n",
       "      <th>9</th>\n",
       "      <td>2018</td>\n",
       "      <td>February</td>\n",
       "      <td>3860</td>\n",
       "    </tr>\n",
       "    <tr>\n",
       "      <th>10</th>\n",
       "      <td>2018</td>\n",
       "      <td>January</td>\n",
       "      <td>4454</td>\n",
       "    </tr>\n",
       "    <tr>\n",
       "      <th>11</th>\n",
       "      <td>2018</td>\n",
       "      <td>July</td>\n",
       "      <td>5478</td>\n",
       "    </tr>\n",
       "    <tr>\n",
       "      <th>12</th>\n",
       "      <td>2018</td>\n",
       "      <td>June</td>\n",
       "      <td>5428</td>\n",
       "    </tr>\n",
       "    <tr>\n",
       "      <th>13</th>\n",
       "      <td>2018</td>\n",
       "      <td>March</td>\n",
       "      <td>2248</td>\n",
       "    </tr>\n",
       "    <tr>\n",
       "      <th>14</th>\n",
       "      <td>2018</td>\n",
       "      <td>May</td>\n",
       "      <td>4824</td>\n",
       "    </tr>\n",
       "    <tr>\n",
       "      <th>15</th>\n",
       "      <td>2018</td>\n",
       "      <td>November</td>\n",
       "      <td>5394</td>\n",
       "    </tr>\n",
       "    <tr>\n",
       "      <th>16</th>\n",
       "      <td>2018</td>\n",
       "      <td>October</td>\n",
       "      <td>5063</td>\n",
       "    </tr>\n",
       "    <tr>\n",
       "      <th>17</th>\n",
       "      <td>2018</td>\n",
       "      <td>September</td>\n",
       "      <td>4572</td>\n",
       "    </tr>\n",
       "    <tr>\n",
       "      <th>18</th>\n",
       "      <td>2019</td>\n",
       "      <td>April</td>\n",
       "      <td>4177</td>\n",
       "    </tr>\n",
       "    <tr>\n",
       "      <th>19</th>\n",
       "      <td>2019</td>\n",
       "      <td>August</td>\n",
       "      <td>5647</td>\n",
       "    </tr>\n",
       "    <tr>\n",
       "      <th>20</th>\n",
       "      <td>2019</td>\n",
       "      <td>July</td>\n",
       "      <td>6313</td>\n",
       "    </tr>\n",
       "    <tr>\n",
       "      <th>21</th>\n",
       "      <td>2019</td>\n",
       "      <td>June</td>\n",
       "      <td>5661</td>\n",
       "    </tr>\n",
       "    <tr>\n",
       "      <th>22</th>\n",
       "      <td>2019</td>\n",
       "      <td>March</td>\n",
       "      <td>3681</td>\n",
       "    </tr>\n",
       "    <tr>\n",
       "      <th>23</th>\n",
       "      <td>2019</td>\n",
       "      <td>May</td>\n",
       "      <td>4970</td>\n",
       "    </tr>\n",
       "    <tr>\n",
       "      <th>24</th>\n",
       "      <td>2019</td>\n",
       "      <td>October</td>\n",
       "      <td>4925</td>\n",
       "    </tr>\n",
       "    <tr>\n",
       "      <th>25</th>\n",
       "      <td>2019</td>\n",
       "      <td>September</td>\n",
       "      <td>5313</td>\n",
       "    </tr>\n",
       "  </tbody>\n",
       "</table>\n",
       "</div>"
      ],
      "text/plain": [
       "    arrival_date_year arrival_date_month  Total\n",
       "0                2017           December   4957\n",
       "1                2017           February   2920\n",
       "2                2017            January   2340\n",
       "3                2017           November   5114\n",
       "4                2017            October   3889\n",
       "5                2017          September   2776\n",
       "6                2018              April   3891\n",
       "7                2018             August   5292\n",
       "8                2018           December   6203\n",
       "9                2018           February   3860\n",
       "10               2018            January   4454\n",
       "11               2018               July   5478\n",
       "12               2018               June   5428\n",
       "13               2018              March   2248\n",
       "14               2018                May   4824\n",
       "15               2018           November   5394\n",
       "16               2018            October   5063\n",
       "17               2018          September   4572\n",
       "18               2019              April   4177\n",
       "19               2019             August   5647\n",
       "20               2019               July   6313\n",
       "21               2019               June   5661\n",
       "22               2019              March   3681\n",
       "23               2019                May   4970\n",
       "24               2019            October   4925\n",
       "25               2019          September   5313"
      ]
     },
     "execution_count": 17,
     "metadata": {},
     "output_type": "execute_result"
    }
   ],
   "source": [
    "df.groupby(['arrival_date_year', 'arrival_date_month'])['arrival_date_month'].count().reset_index(name='Total')"
   ]
  },
  {
   "cell_type": "markdown",
   "id": "5be6c1d6",
   "metadata": {
    "papermill": {
     "duration": 0.013522,
     "end_time": "2023-05-07T08:58:03.670751",
     "exception": false,
     "start_time": "2023-05-07T08:58:03.657229",
     "status": "completed"
    },
    "tags": []
   },
   "source": [
    "It showed that the months of 2017 were strange because, after February, it jumps into September. After some exploration, I found that on `arrival_date_day_of_month` in February, the latest date is the 31st, but in April, the latest date is the 29th, which should be in February. So, I need to replace the months by 2 months earlier."
   ]
  },
  {
   "cell_type": "code",
   "execution_count": 18,
   "id": "a7ffa1e0",
   "metadata": {
    "execution": {
     "iopub.execute_input": "2023-05-07T08:58:03.699339Z",
     "iopub.status.busy": "2023-05-07T08:58:03.698883Z",
     "iopub.status.idle": "2023-05-07T08:58:03.794529Z",
     "shell.execute_reply": "2023-05-07T08:58:03.793099Z"
    },
    "papermill": {
     "duration": 0.113278,
     "end_time": "2023-05-07T08:58:03.797376",
     "exception": false,
     "start_time": "2023-05-07T08:58:03.684098",
     "status": "completed"
    },
    "tags": []
   },
   "outputs": [
    {
     "data": {
      "text/html": [
       "<div>\n",
       "<style scoped>\n",
       "    .dataframe tbody tr th:only-of-type {\n",
       "        vertical-align: middle;\n",
       "    }\n",
       "\n",
       "    .dataframe tbody tr th {\n",
       "        vertical-align: top;\n",
       "    }\n",
       "\n",
       "    .dataframe thead th {\n",
       "        text-align: right;\n",
       "    }\n",
       "</style>\n",
       "<table border=\"1\" class=\"dataframe\">\n",
       "  <thead>\n",
       "    <tr style=\"text-align: right;\">\n",
       "      <th></th>\n",
       "      <th>arrival_date_year</th>\n",
       "      <th>arrival_date_month</th>\n",
       "      <th>Total</th>\n",
       "    </tr>\n",
       "  </thead>\n",
       "  <tbody>\n",
       "    <tr>\n",
       "      <th>0</th>\n",
       "      <td>2017</td>\n",
       "      <td>7</td>\n",
       "      <td>2776</td>\n",
       "    </tr>\n",
       "    <tr>\n",
       "      <th>1</th>\n",
       "      <td>2017</td>\n",
       "      <td>8</td>\n",
       "      <td>3889</td>\n",
       "    </tr>\n",
       "    <tr>\n",
       "      <th>2</th>\n",
       "      <td>2017</td>\n",
       "      <td>9</td>\n",
       "      <td>5114</td>\n",
       "    </tr>\n",
       "    <tr>\n",
       "      <th>3</th>\n",
       "      <td>2017</td>\n",
       "      <td>10</td>\n",
       "      <td>4957</td>\n",
       "    </tr>\n",
       "    <tr>\n",
       "      <th>4</th>\n",
       "      <td>2017</td>\n",
       "      <td>11</td>\n",
       "      <td>2340</td>\n",
       "    </tr>\n",
       "    <tr>\n",
       "      <th>5</th>\n",
       "      <td>2017</td>\n",
       "      <td>12</td>\n",
       "      <td>2920</td>\n",
       "    </tr>\n",
       "    <tr>\n",
       "      <th>6</th>\n",
       "      <td>2018</td>\n",
       "      <td>1</td>\n",
       "      <td>2248</td>\n",
       "    </tr>\n",
       "    <tr>\n",
       "      <th>7</th>\n",
       "      <td>2018</td>\n",
       "      <td>2</td>\n",
       "      <td>3891</td>\n",
       "    </tr>\n",
       "    <tr>\n",
       "      <th>8</th>\n",
       "      <td>2018</td>\n",
       "      <td>3</td>\n",
       "      <td>4824</td>\n",
       "    </tr>\n",
       "    <tr>\n",
       "      <th>9</th>\n",
       "      <td>2018</td>\n",
       "      <td>4</td>\n",
       "      <td>5428</td>\n",
       "    </tr>\n",
       "    <tr>\n",
       "      <th>10</th>\n",
       "      <td>2018</td>\n",
       "      <td>5</td>\n",
       "      <td>5478</td>\n",
       "    </tr>\n",
       "    <tr>\n",
       "      <th>11</th>\n",
       "      <td>2018</td>\n",
       "      <td>6</td>\n",
       "      <td>5292</td>\n",
       "    </tr>\n",
       "    <tr>\n",
       "      <th>12</th>\n",
       "      <td>2018</td>\n",
       "      <td>7</td>\n",
       "      <td>4572</td>\n",
       "    </tr>\n",
       "    <tr>\n",
       "      <th>13</th>\n",
       "      <td>2018</td>\n",
       "      <td>8</td>\n",
       "      <td>5063</td>\n",
       "    </tr>\n",
       "    <tr>\n",
       "      <th>14</th>\n",
       "      <td>2018</td>\n",
       "      <td>9</td>\n",
       "      <td>5394</td>\n",
       "    </tr>\n",
       "    <tr>\n",
       "      <th>15</th>\n",
       "      <td>2018</td>\n",
       "      <td>10</td>\n",
       "      <td>6203</td>\n",
       "    </tr>\n",
       "    <tr>\n",
       "      <th>16</th>\n",
       "      <td>2018</td>\n",
       "      <td>11</td>\n",
       "      <td>4454</td>\n",
       "    </tr>\n",
       "    <tr>\n",
       "      <th>17</th>\n",
       "      <td>2018</td>\n",
       "      <td>12</td>\n",
       "      <td>3860</td>\n",
       "    </tr>\n",
       "    <tr>\n",
       "      <th>18</th>\n",
       "      <td>2019</td>\n",
       "      <td>1</td>\n",
       "      <td>3681</td>\n",
       "    </tr>\n",
       "    <tr>\n",
       "      <th>19</th>\n",
       "      <td>2019</td>\n",
       "      <td>2</td>\n",
       "      <td>4177</td>\n",
       "    </tr>\n",
       "    <tr>\n",
       "      <th>20</th>\n",
       "      <td>2019</td>\n",
       "      <td>3</td>\n",
       "      <td>4970</td>\n",
       "    </tr>\n",
       "    <tr>\n",
       "      <th>21</th>\n",
       "      <td>2019</td>\n",
       "      <td>4</td>\n",
       "      <td>5661</td>\n",
       "    </tr>\n",
       "    <tr>\n",
       "      <th>22</th>\n",
       "      <td>2019</td>\n",
       "      <td>5</td>\n",
       "      <td>6313</td>\n",
       "    </tr>\n",
       "    <tr>\n",
       "      <th>23</th>\n",
       "      <td>2019</td>\n",
       "      <td>6</td>\n",
       "      <td>5647</td>\n",
       "    </tr>\n",
       "    <tr>\n",
       "      <th>24</th>\n",
       "      <td>2019</td>\n",
       "      <td>7</td>\n",
       "      <td>5313</td>\n",
       "    </tr>\n",
       "    <tr>\n",
       "      <th>25</th>\n",
       "      <td>2019</td>\n",
       "      <td>8</td>\n",
       "      <td>4925</td>\n",
       "    </tr>\n",
       "  </tbody>\n",
       "</table>\n",
       "</div>"
      ],
      "text/plain": [
       "    arrival_date_year  arrival_date_month  Total\n",
       "0                2017                   7   2776\n",
       "1                2017                   8   3889\n",
       "2                2017                   9   5114\n",
       "3                2017                  10   4957\n",
       "4                2017                  11   2340\n",
       "5                2017                  12   2920\n",
       "6                2018                   1   2248\n",
       "7                2018                   2   3891\n",
       "8                2018                   3   4824\n",
       "9                2018                   4   5428\n",
       "10               2018                   5   5478\n",
       "11               2018                   6   5292\n",
       "12               2018                   7   4572\n",
       "13               2018                   8   5063\n",
       "14               2018                   9   5394\n",
       "15               2018                  10   6203\n",
       "16               2018                  11   4454\n",
       "17               2018                  12   3860\n",
       "18               2019                   1   3681\n",
       "19               2019                   2   4177\n",
       "20               2019                   3   4970\n",
       "21               2019                   4   5661\n",
       "22               2019                   5   6313\n",
       "23               2019                   6   5647\n",
       "24               2019                   7   5313\n",
       "25               2019                   8   4925"
      ]
     },
     "execution_count": 18,
     "metadata": {},
     "output_type": "execute_result"
    }
   ],
   "source": [
    "# convert months to numbers\n",
    "convert_month = {month: index for index, month in enumerate(calendar.month_name) if month} # convert months to numbers\n",
    "df['arrival_date_month'] = [convert_month[x] for x in df['arrival_date_month']] \n",
    "# replace the months\n",
    "df['arrival_date_month'] = np.where(df['arrival_date_month'] < 3, df['arrival_date_month'] + 10, df['arrival_date_month'] - 2)\n",
    "df.groupby(['arrival_date_year', 'arrival_date_month'])['arrival_date_month'].count().reset_index(name='Total')"
   ]
  },
  {
   "cell_type": "markdown",
   "id": "07e5905b",
   "metadata": {
    "papermill": {
     "duration": 0.014273,
     "end_time": "2023-05-07T08:58:03.825760",
     "exception": false,
     "start_time": "2023-05-07T08:58:03.811487",
     "status": "completed"
    },
    "tags": []
   },
   "source": [
    "Next, I will aggregate the total bookings by the hotel name. But, I noticed that July and August appeared in 3 years while others only 2 years. It can affect the analysis and be biased. So, I decided to aggregate the average bookings rather than the total bookings."
   ]
  },
  {
   "cell_type": "code",
   "execution_count": 19,
   "id": "48be2af2",
   "metadata": {
    "execution": {
     "iopub.execute_input": "2023-05-07T08:58:03.857651Z",
     "iopub.status.busy": "2023-05-07T08:58:03.857183Z",
     "iopub.status.idle": "2023-05-07T08:58:03.936528Z",
     "shell.execute_reply": "2023-05-07T08:58:03.935251Z"
    },
    "papermill": {
     "duration": 0.098331,
     "end_time": "2023-05-07T08:58:03.939501",
     "exception": false,
     "start_time": "2023-05-07T08:58:03.841170",
     "status": "completed"
    },
    "tags": []
   },
   "outputs": [
    {
     "data": {
      "text/html": [
       "<div>\n",
       "<style scoped>\n",
       "    .dataframe tbody tr th:only-of-type {\n",
       "        vertical-align: middle;\n",
       "    }\n",
       "\n",
       "    .dataframe tbody tr th {\n",
       "        vertical-align: top;\n",
       "    }\n",
       "\n",
       "    .dataframe thead th {\n",
       "        text-align: right;\n",
       "    }\n",
       "</style>\n",
       "<table border=\"1\" class=\"dataframe\">\n",
       "  <thead>\n",
       "    <tr style=\"text-align: right;\">\n",
       "      <th>arrival_date_month</th>\n",
       "      <th>1</th>\n",
       "      <th>2</th>\n",
       "      <th>3</th>\n",
       "      <th>4</th>\n",
       "      <th>5</th>\n",
       "      <th>6</th>\n",
       "      <th>7</th>\n",
       "      <th>8</th>\n",
       "      <th>9</th>\n",
       "      <th>10</th>\n",
       "      <th>11</th>\n",
       "      <th>12</th>\n",
       "    </tr>\n",
       "    <tr>\n",
       "      <th>hotel</th>\n",
       "      <th></th>\n",
       "      <th></th>\n",
       "      <th></th>\n",
       "      <th></th>\n",
       "      <th></th>\n",
       "      <th></th>\n",
       "      <th></th>\n",
       "      <th></th>\n",
       "      <th></th>\n",
       "      <th></th>\n",
       "      <th></th>\n",
       "      <th></th>\n",
       "    </tr>\n",
       "  </thead>\n",
       "  <tbody>\n",
       "    <tr>\n",
       "      <th>City Hotel</th>\n",
       "      <td>1868.0</td>\n",
       "      <td>2482.0</td>\n",
       "      <td>3229.0</td>\n",
       "      <td>3740.0</td>\n",
       "      <td>4116.0</td>\n",
       "      <td>3947.0</td>\n",
       "      <td>2696.0</td>\n",
       "      <td>2994.0</td>\n",
       "      <td>3700.0</td>\n",
       "      <td>3802.0</td>\n",
       "      <td>2178.0</td>\n",
       "      <td>2066.0</td>\n",
       "    </tr>\n",
       "    <tr>\n",
       "      <th>Resort Hotel</th>\n",
       "      <td>1096.0</td>\n",
       "      <td>1552.0</td>\n",
       "      <td>1668.0</td>\n",
       "      <td>1804.0</td>\n",
       "      <td>1780.0</td>\n",
       "      <td>1522.0</td>\n",
       "      <td>1524.0</td>\n",
       "      <td>1631.0</td>\n",
       "      <td>1554.0</td>\n",
       "      <td>1778.0</td>\n",
       "      <td>1218.0</td>\n",
       "      <td>1324.0</td>\n",
       "    </tr>\n",
       "  </tbody>\n",
       "</table>\n",
       "</div>"
      ],
      "text/plain": [
       "arrival_date_month      1       2       3       4       5       6       7   \\\n",
       "hotel                                                                        \n",
       "City Hotel          1868.0  2482.0  3229.0  3740.0  4116.0  3947.0  2696.0   \n",
       "Resort Hotel        1096.0  1552.0  1668.0  1804.0  1780.0  1522.0  1524.0   \n",
       "\n",
       "arrival_date_month      8       9       10      11      12  \n",
       "hotel                                                       \n",
       "City Hotel          2994.0  3700.0  3802.0  2178.0  2066.0  \n",
       "Resort Hotel        1631.0  1554.0  1778.0  1218.0  1324.0  "
      ]
     },
     "execution_count": 19,
     "metadata": {},
     "output_type": "execute_result"
    }
   ],
   "source": [
    "bookings = df.groupby(['hotel', 'arrival_date_month']).agg(total_bookings = ('arrival_date_year','count'), \n",
    "                                                           total_years = ('arrival_date_year', 'nunique')).reset_index()\n",
    "bookings['avg_bookings'] = round(bookings['total_bookings'] / bookings['total_years'])\n",
    "# create pivot table\n",
    "pd.pivot_table(bookings, index='hotel', columns='arrival_date_month', values='avg_bookings')"
   ]
  },
  {
   "cell_type": "code",
   "execution_count": 20,
   "id": "a3ed93e6",
   "metadata": {
    "execution": {
     "iopub.execute_input": "2023-05-07T08:58:03.973094Z",
     "iopub.status.busy": "2023-05-07T08:58:03.971839Z",
     "iopub.status.idle": "2023-05-07T08:58:04.446363Z",
     "shell.execute_reply": "2023-05-07T08:58:04.445032Z"
    },
    "papermill": {
     "duration": 0.496196,
     "end_time": "2023-05-07T08:58:04.449606",
     "exception": false,
     "start_time": "2023-05-07T08:58:03.953410",
     "status": "completed"
    },
    "tags": []
   },
   "outputs": [
    {
     "data": {
      "image/png": "[encoded data removed]",
      "text/plain": [
       "<Figure size 1500x800 with 1 Axes>"
      ]
     },
     "metadata": {},
     "output_type": "display_data"
    }
   ],
   "source": [
    "plt.figure(figsize=(15,8))\n",
    "sns.lineplot(data = bookings, x = 'arrival_date_month', y = 'avg_bookings', hue = 'hotel')\n",
    "plt.ylim(0,4500) # set the range of y-axis\n",
    "\n",
    "# set x and y labels\n",
    "plt.title('Monthly Hotel Booking Analysis Based on Hotel Type', fontsize=14)\n",
    "plt.xlabel('Arrival Month')\n",
    "plt.ylabel('Average Bookings')\n",
    "\n",
    "# replace the xticks with month abbreviation\n",
    "label = ['Jan', 'Feb', 'Mar', 'Apr', 'May', 'Jun', 'Jul', 'Aug', 'Sep', 'Oct', 'Nov', 'Dec']\n",
    "plt.xticks(bookings['arrival_date_month'].unique(), label)\n",
    "\n",
    "# highlight area\n",
    "plt.axvspan(4, 6, color='red', alpha=0.2)\n",
    "plt.axvspan(9, 10, color='red', alpha=0.2)\n",
    "\n",
    "# add highlight text\n",
    "plt.text(4.7, 3000, s='  Peak\\nSeason', fontsize=12, color='red')\n",
    "plt.text(9.2, 3000, s='  Peak\\nSeason', fontsize=12, color='red')\n",
    "plt.show()"
   ]
  },
  {
   "cell_type": "markdown",
   "id": "2a5ee9d6",
   "metadata": {
    "papermill": {
     "duration": 0.015481,
     "end_time": "2023-05-07T08:58:04.480980",
     "exception": false,
     "start_time": "2023-05-07T08:58:04.465499",
     "status": "completed"
    },
    "tags": []
   },
   "source": [
    "**Findings:** Overall, the City Hotel has more average bookings than the Resort Hotel, especially during peak season. The peak season in both hotels is from April to May and September to October. It's probably because, in Indonesia, these months are between the dry and wet seasons. So, the weather is not too hot to explore the tourist destination. Further analysis can be carried out to confirm this."
   ]
  },
  {
   "cell_type": "markdown",
   "id": "77f77547",
   "metadata": {
    "papermill": {
     "duration": 0.015648,
     "end_time": "2023-05-07T08:58:04.511993",
     "exception": false,
     "start_time": "2023-05-07T08:58:04.496345",
     "status": "completed"
    },
    "tags": []
   },
   "source": [
    "# Impact Analysis of Stay Duration on Hotel Bookings Cancellation Rates\n",
    "Is there any correlation between the duration of stay and the rate of cancellation of hotel bookings?"
   ]
  },
  {
   "cell_type": "markdown",
   "id": "7823ac8d",
   "metadata": {
    "papermill": {
     "duration": 0.014813,
     "end_time": "2023-05-07T08:58:04.543371",
     "exception": false,
     "start_time": "2023-05-07T08:58:04.528558",
     "status": "completed"
    },
    "tags": []
   },
   "source": [
    "First, I will create a `stay_duration` column to sum the total nights the guest stays."
   ]
  },
  {
   "cell_type": "code",
   "execution_count": 21,
   "id": "6c240247",
   "metadata": {
    "execution": {
     "iopub.execute_input": "2023-05-07T08:58:04.576158Z",
     "iopub.status.busy": "2023-05-07T08:58:04.575241Z",
     "iopub.status.idle": "2023-05-07T08:58:05.108747Z",
     "shell.execute_reply": "2023-05-07T08:58:05.107660Z"
    },
    "papermill": {
     "duration": 0.554476,
     "end_time": "2023-05-07T08:58:05.112995",
     "exception": false,
     "start_time": "2023-05-07T08:58:04.558519",
     "status": "completed"
    },
    "tags": []
   },
   "outputs": [
    {
     "data": {
      "text/plain": [
       "<seaborn.axisgrid.FacetGrid at 0x78ee0984c5d0>"
      ]
     },
     "execution_count": 21,
     "metadata": {},
     "output_type": "execute_result"
    },
    {
     "data": {
      "image/png": "[encoded data removed]",
      "text/plain": [
       "<Figure size 500x500 with 1 Axes>"
      ]
     },
     "metadata": {},
     "output_type": "display_data"
    }
   ],
   "source": [
    "# create new column\n",
    "df.insert(9, 'stay_duration', df['stays_in_weekdays_nights'] + df['stays_in_weekend_nights'])\n",
    "# show the distibution of the column\n",
    "sns.displot(df['stay_duration'], bins=14)"
   ]
  },
  {
   "cell_type": "markdown",
   "id": "104ec9cc",
   "metadata": {
    "papermill": {
     "duration": 0.01708,
     "end_time": "2023-05-07T08:58:05.146865",
     "exception": false,
     "start_time": "2023-05-07T08:58:05.129785",
     "status": "completed"
    },
    "tags": []
   },
   "source": [
    "It looks like fewer guests stayed more than 15 days. It can be aggregated into small groups. So, I will aggregate the guests who stayed 15 to 30 days and guests who stayed for 30 days or more."
   ]
  },
  {
   "cell_type": "code",
   "execution_count": 22,
   "id": "199ce6bf",
   "metadata": {
    "execution": {
     "iopub.execute_input": "2023-05-07T08:58:05.182791Z",
     "iopub.status.busy": "2023-05-07T08:58:05.181893Z",
     "iopub.status.idle": "2023-05-07T08:58:05.189344Z",
     "shell.execute_reply": "2023-05-07T08:58:05.188257Z"
    },
    "papermill": {
     "duration": 0.030061,
     "end_time": "2023-05-07T08:58:05.192866",
     "exception": false,
     "start_time": "2023-05-07T08:58:05.162805",
     "status": "completed"
    },
    "tags": []
   },
   "outputs": [],
   "source": [
    "df['stay_duration'] = np.where(df['stay_duration'] > 14, 15, df['stay_duration'])"
   ]
  },
  {
   "cell_type": "markdown",
   "id": "80b8b300",
   "metadata": {
    "papermill": {
     "duration": 0.016064,
     "end_time": "2023-05-07T08:58:05.225382",
     "exception": false,
     "start_time": "2023-05-07T08:58:05.209318",
     "status": "completed"
    },
    "tags": []
   },
   "source": [
    "Next, I will compare the total bookings canceled to the guest's stay duration."
   ]
  },
  {
   "cell_type": "code",
   "execution_count": 23,
   "id": "394dc49b",
   "metadata": {
    "execution": {
     "iopub.execute_input": "2023-05-07T08:58:05.259323Z",
     "iopub.status.busy": "2023-05-07T08:58:05.258844Z",
     "iopub.status.idle": "2023-05-07T08:58:05.330519Z",
     "shell.execute_reply": "2023-05-07T08:58:05.328737Z"
    },
    "papermill": {
     "duration": 0.09268,
     "end_time": "2023-05-07T08:58:05.333732",
     "exception": false,
     "start_time": "2023-05-07T08:58:05.241052",
     "status": "completed"
    },
    "tags": []
   },
   "outputs": [
    {
     "data": {
      "text/html": [
       "<div>\n",
       "<style scoped>\n",
       "    .dataframe tbody tr th:only-of-type {\n",
       "        vertical-align: middle;\n",
       "    }\n",
       "\n",
       "    .dataframe tbody tr th {\n",
       "        vertical-align: top;\n",
       "    }\n",
       "\n",
       "    .dataframe thead th {\n",
       "        text-align: right;\n",
       "    }\n",
       "</style>\n",
       "<table border=\"1\" class=\"dataframe\">\n",
       "  <thead>\n",
       "    <tr style=\"text-align: right;\">\n",
       "      <th>stay_duration</th>\n",
       "      <th>0</th>\n",
       "      <th>1</th>\n",
       "      <th>2</th>\n",
       "      <th>3</th>\n",
       "      <th>4</th>\n",
       "      <th>5</th>\n",
       "      <th>6</th>\n",
       "      <th>7</th>\n",
       "      <th>8</th>\n",
       "      <th>9</th>\n",
       "      <th>10</th>\n",
       "      <th>11</th>\n",
       "      <th>12</th>\n",
       "      <th>13</th>\n",
       "      <th>14</th>\n",
       "      <th>15</th>\n",
       "    </tr>\n",
       "    <tr>\n",
       "      <th>hotel</th>\n",
       "      <th></th>\n",
       "      <th></th>\n",
       "      <th></th>\n",
       "      <th></th>\n",
       "      <th></th>\n",
       "      <th></th>\n",
       "      <th></th>\n",
       "      <th></th>\n",
       "      <th></th>\n",
       "      <th></th>\n",
       "      <th></th>\n",
       "      <th></th>\n",
       "      <th></th>\n",
       "      <th></th>\n",
       "      <th></th>\n",
       "      <th></th>\n",
       "    </tr>\n",
       "  </thead>\n",
       "  <tbody>\n",
       "    <tr>\n",
       "      <th>City Hotel</th>\n",
       "      <td>6.9</td>\n",
       "      <td>30.9</td>\n",
       "      <td>48.7</td>\n",
       "      <td>44.4</td>\n",
       "      <td>38.6</td>\n",
       "      <td>35.5</td>\n",
       "      <td>45.8</td>\n",
       "      <td>39.2</td>\n",
       "      <td>45.7</td>\n",
       "      <td>43.7</td>\n",
       "      <td>58.3</td>\n",
       "      <td>56.1</td>\n",
       "      <td>46.2</td>\n",
       "      <td>61.9</td>\n",
       "      <td>71.0</td>\n",
       "      <td>72.8</td>\n",
       "    </tr>\n",
       "    <tr>\n",
       "      <th>Resort Hotel</th>\n",
       "      <td>3.1</td>\n",
       "      <td>15.1</td>\n",
       "      <td>27.8</td>\n",
       "      <td>32.7</td>\n",
       "      <td>31.2</td>\n",
       "      <td>31.8</td>\n",
       "      <td>32.9</td>\n",
       "      <td>32.8</td>\n",
       "      <td>34.1</td>\n",
       "      <td>35.0</td>\n",
       "      <td>25.5</td>\n",
       "      <td>23.6</td>\n",
       "      <td>43.0</td>\n",
       "      <td>25.0</td>\n",
       "      <td>22.8</td>\n",
       "      <td>45.1</td>\n",
       "    </tr>\n",
       "  </tbody>\n",
       "</table>\n",
       "</div>"
      ],
      "text/plain": [
       "stay_duration   0     1     2     3     4     5     6     7     8     9   \\\n",
       "hotel                                                                      \n",
       "City Hotel     6.9  30.9  48.7  44.4  38.6  35.5  45.8  39.2  45.7  43.7   \n",
       "Resort Hotel   3.1  15.1  27.8  32.7  31.2  31.8  32.9  32.8  34.1  35.0   \n",
       "\n",
       "stay_duration    10    11    12    13    14    15  \n",
       "hotel                                              \n",
       "City Hotel     58.3  56.1  46.2  61.9  71.0  72.8  \n",
       "Resort Hotel   25.5  23.6  43.0  25.0  22.8  45.1  "
      ]
     },
     "execution_count": 23,
     "metadata": {},
     "output_type": "execute_result"
    }
   ],
   "source": [
    "cancel_dur = df.groupby(['hotel', 'stay_duration', 'is_canceled'])['is_canceled'].count().reset_index(name='total_guest')\n",
    "cancel_dur = pd.pivot_table(cancel_dur, index = ['hotel', 'stay_duration'], columns = 'is_canceled', values = 'total_guest').reset_index().rename_axis(None, axis=1)\n",
    "cancel_dur['cancel_pct'] = round(cancel_dur[1] / (cancel_dur[0] + cancel_dur[1]) * 100, 1)\n",
    "pd.pivot_table(cancel_dur, index=['hotel'], columns='stay_duration', values='cancel_pct')"
   ]
  },
  {
   "cell_type": "code",
   "execution_count": 24,
   "id": "3a411134",
   "metadata": {
    "execution": {
     "iopub.execute_input": "2023-05-07T08:58:05.369369Z",
     "iopub.status.busy": "2023-05-07T08:58:05.368837Z",
     "iopub.status.idle": "2023-05-07T08:58:06.158694Z",
     "shell.execute_reply": "2023-05-07T08:58:06.156656Z"
    },
    "papermill": {
     "duration": 0.811902,
     "end_time": "2023-05-07T08:58:06.162041",
     "exception": false,
     "start_time": "2023-05-07T08:58:05.350139",
     "status": "completed"
    },
    "tags": []
   },
   "outputs": [
    {
     "data": {
      "image/png": "[encoded data removed]",
      "text/plain": [
       "<Figure size 1500x600 with 1 Axes>"
      ]
     },
     "metadata": {},
     "output_type": "display_data"
    }
   ],
   "source": [
    "plt.figure(figsize=(15,6))\n",
    "sns.barplot(data=cancel_dur, x='stay_duration', y='cancel_pct', hue='hotel')\n",
    "# create trendline\n",
    "sns.regplot(data=cancel_dur[cancel_dur['hotel'] == 'City Hotel'], x='stay_duration', y='cancel_pct', scatter=False)\n",
    "sns.regplot(data=cancel_dur[cancel_dur['hotel'] == 'Resort Hotel'], x='stay_duration', y='cancel_pct', scatter=False)\n",
    "# sns.lmplot(data=cancel_dur, x='stay_duration', y='cancel_pct', hue='hotel' )\n",
    "plt.xlim(-0.5, 15.5)\n",
    "plt.ylim(0, 90)\n",
    "# set title, x and y label\n",
    "plt.title('Stay Duration on Hotel Bookings Cancellation Rates')\n",
    "plt.xlabel('Duration')\n",
    "plt.ylabel('Cancellation Rate')\n",
    "\n",
    "plt.text(10, 80, s='Significant Cancellation Rates Difference', fontsize=13, color='red')\n",
    "plt.axvspan(9.5, 15.5, color='red', alpha=0.1)\n",
    "plt.show()"
   ]
  },
  {
   "cell_type": "markdown",
   "id": "e7e17eec",
   "metadata": {
    "papermill": {
     "duration": 0.01784,
     "end_time": "2023-05-07T08:58:06.198072",
     "exception": false,
     "start_time": "2023-05-07T08:58:06.180232",
     "status": "completed"
    },
    "tags": []
   },
   "source": [
    "Based on the trendline, the longer the customer booked, the higher the cancellation rates. We can see that City Hotel has a higher cancellation rate than Resort Hotel. Guest who booked 10 days or more in City Hotel has more than 50% cancellation rates. Meanwhile, in Resort Hotel, the customer that booked for 10 days or more has only about 20% cancellation rates."
   ]
  },
  {
   "cell_type": "markdown",
   "id": "2a4f5e49",
   "metadata": {
    "papermill": {
     "duration": 0.01688,
     "end_time": "2023-05-07T08:58:06.232199",
     "exception": false,
     "start_time": "2023-05-07T08:58:06.215319",
     "status": "completed"
    },
    "tags": []
   },
   "source": [
    "# Impact Analysis of Lead Time on Hotel Bookings Cancellation Rate\n",
    "Is there any correlation between the time interval of hotel bookings and the cancellation rate of hotel bookings?"
   ]
  },
  {
   "cell_type": "code",
   "execution_count": 25,
   "id": "e8d1cc7c",
   "metadata": {
    "execution": {
     "iopub.execute_input": "2023-05-07T08:58:06.268356Z",
     "iopub.status.busy": "2023-05-07T08:58:06.267802Z",
     "iopub.status.idle": "2023-05-07T08:58:06.281535Z",
     "shell.execute_reply": "2023-05-07T08:58:06.279873Z"
    },
    "papermill": {
     "duration": 0.035393,
     "end_time": "2023-05-07T08:58:06.284423",
     "exception": false,
     "start_time": "2023-05-07T08:58:06.249030",
     "status": "completed"
    },
    "tags": []
   },
   "outputs": [
    {
     "data": {
      "text/plain": [
       "0      6345\n",
       "1      3460\n",
       "2      2069\n",
       "3      1816\n",
       "4      1715\n",
       "       ... \n",
       "400       1\n",
       "370       1\n",
       "532       1\n",
       "371       1\n",
       "463       1\n",
       "Name: lead_time, Length: 479, dtype: int64"
      ]
     },
     "execution_count": 25,
     "metadata": {},
     "output_type": "execute_result"
    }
   ],
   "source": [
    "df['lead_time'].value_counts()"
   ]
  },
  {
   "cell_type": "code",
   "execution_count": 26,
   "id": "0d570f86",
   "metadata": {
    "execution": {
     "iopub.execute_input": "2023-05-07T08:58:06.321988Z",
     "iopub.status.busy": "2023-05-07T08:58:06.320043Z",
     "iopub.status.idle": "2023-05-07T08:58:06.938291Z",
     "shell.execute_reply": "2023-05-07T08:58:06.936425Z"
    },
    "papermill": {
     "duration": 0.640042,
     "end_time": "2023-05-07T08:58:06.941470",
     "exception": false,
     "start_time": "2023-05-07T08:58:06.301428",
     "status": "completed"
    },
    "tags": []
   },
   "outputs": [
    {
     "data": {
      "text/plain": [
       "<seaborn.axisgrid.FacetGrid at 0x78ee09b55650>"
      ]
     },
     "execution_count": 26,
     "metadata": {},
     "output_type": "execute_result"
    },
    {
     "data": {
      "image/png": "[encoded data removed]",
      "text/plain": [
       "<Figure size 500x500 with 1 Axes>"
      ]
     },
     "metadata": {},
     "output_type": "display_data"
    }
   ],
   "source": [
    "sns.displot(df['lead_time'], bins=70)"
   ]
  },
  {
   "cell_type": "markdown",
   "id": "c9d291c6",
   "metadata": {
    "papermill": {
     "duration": 0.017412,
     "end_time": "2023-05-07T08:58:06.976599",
     "exception": false,
     "start_time": "2023-05-07T08:58:06.959187",
     "status": "completed"
    },
    "tags": []
   },
   "source": [
    "The value range is quite wide so I decided to group this into month"
   ]
  },
  {
   "cell_type": "code",
   "execution_count": 27,
   "id": "caf16386",
   "metadata": {
    "execution": {
     "iopub.execute_input": "2023-05-07T08:58:07.016793Z",
     "iopub.status.busy": "2023-05-07T08:58:07.015212Z",
     "iopub.status.idle": "2023-05-07T08:58:07.076967Z",
     "shell.execute_reply": "2023-05-07T08:58:07.075604Z"
    },
    "papermill": {
     "duration": 0.085525,
     "end_time": "2023-05-07T08:58:07.079875",
     "exception": false,
     "start_time": "2023-05-07T08:58:06.994350",
     "status": "completed"
    },
    "tags": []
   },
   "outputs": [
    {
     "data": {
      "text/html": [
       "<div>\n",
       "<style scoped>\n",
       "    .dataframe tbody tr th:only-of-type {\n",
       "        vertical-align: middle;\n",
       "    }\n",
       "\n",
       "    .dataframe tbody tr th {\n",
       "        vertical-align: top;\n",
       "    }\n",
       "\n",
       "    .dataframe thead th {\n",
       "        text-align: right;\n",
       "    }\n",
       "</style>\n",
       "<table border=\"1\" class=\"dataframe\">\n",
       "  <thead>\n",
       "    <tr style=\"text-align: right;\">\n",
       "      <th></th>\n",
       "      <th>hotel</th>\n",
       "      <th>is_canceled</th>\n",
       "      <th>lead_time</th>\n",
       "      <th>lead_time_cat</th>\n",
       "      <th>arrival_date_year</th>\n",
       "      <th>arrival_date_month</th>\n",
       "      <th>arrival_date_week_number</th>\n",
       "      <th>arrival_date_day_of_month</th>\n",
       "      <th>stays_in_weekend_nights</th>\n",
       "      <th>stays_in_weekdays_nights</th>\n",
       "      <th>stay_duration</th>\n",
       "      <th>guest</th>\n",
       "      <th>meal</th>\n",
       "      <th>city</th>\n",
       "      <th>market_segment</th>\n",
       "      <th>distribution_channel</th>\n",
       "      <th>is_repeated_guest</th>\n",
       "      <th>previous_cancellations</th>\n",
       "      <th>previous_bookings_not_canceled</th>\n",
       "      <th>booking_changes</th>\n",
       "      <th>deposit_type</th>\n",
       "      <th>agent</th>\n",
       "      <th>company</th>\n",
       "      <th>days_in_waiting_list</th>\n",
       "      <th>customer_type</th>\n",
       "      <th>adr</th>\n",
       "      <th>required_car_parking_spaces</th>\n",
       "      <th>total_of_special_requests</th>\n",
       "      <th>reservation_status</th>\n",
       "    </tr>\n",
       "  </thead>\n",
       "  <tbody>\n",
       "    <tr>\n",
       "      <th>0</th>\n",
       "      <td>Resort Hotel</td>\n",
       "      <td>0</td>\n",
       "      <td>342</td>\n",
       "      <td>330-360</td>\n",
       "      <td>2017</td>\n",
       "      <td>7</td>\n",
       "      <td>27</td>\n",
       "      <td>1</td>\n",
       "      <td>0</td>\n",
       "      <td>0</td>\n",
       "      <td>0</td>\n",
       "      <td>2.0</td>\n",
       "      <td>Breakfast</td>\n",
       "      <td>Kota Denpasar</td>\n",
       "      <td>Direct</td>\n",
       "      <td>Direct</td>\n",
       "      <td>0</td>\n",
       "      <td>0</td>\n",
       "      <td>0</td>\n",
       "      <td>3</td>\n",
       "      <td>No Deposit</td>\n",
       "      <td>0.0</td>\n",
       "      <td>0.0</td>\n",
       "      <td>0</td>\n",
       "      <td>Personal</td>\n",
       "      <td>0.0</td>\n",
       "      <td>0</td>\n",
       "      <td>0</td>\n",
       "      <td>Check-Out</td>\n",
       "    </tr>\n",
       "  </tbody>\n",
       "</table>\n",
       "</div>"
      ],
      "text/plain": [
       "          hotel  is_canceled  lead_time lead_time_cat  arrival_date_year  \\\n",
       "0  Resort Hotel            0        342       330-360               2017   \n",
       "\n",
       "   arrival_date_month  arrival_date_week_number  arrival_date_day_of_month  \\\n",
       "0                   7                        27                          1   \n",
       "\n",
       "   stays_in_weekend_nights  stays_in_weekdays_nights  stay_duration  guest  \\\n",
       "0                        0                         0              0    2.0   \n",
       "\n",
       "        meal           city market_segment distribution_channel  \\\n",
       "0  Breakfast  Kota Denpasar         Direct               Direct   \n",
       "\n",
       "   is_repeated_guest  previous_cancellations  previous_bookings_not_canceled  \\\n",
       "0                  0                       0                               0   \n",
       "\n",
       "   booking_changes deposit_type  agent  company  days_in_waiting_list  \\\n",
       "0                3   No Deposit    0.0      0.0                     0   \n",
       "\n",
       "  customer_type  adr  required_car_parking_spaces  total_of_special_requests  \\\n",
       "0      Personal  0.0                            0                          0   \n",
       "\n",
       "  reservation_status  \n",
       "0          Check-Out  "
      ]
     },
     "execution_count": 27,
     "metadata": {},
     "output_type": "execute_result"
    }
   ],
   "source": [
    "df['lead_time'] = np.where(df['lead_time'] > 360, 361, df['lead_time'])\n",
    "bins = np.arange(min(df['lead_time']), max(df['lead_time']) + 30, 30)\n",
    "category = [f'{bins[x]}-{bins[x+1]}' for x in range(len(bins)-1)]\n",
    "category[-1] = '>360'\n",
    "df.insert(3, 'lead_time_cat', pd.cut(df['lead_time'], bins=bins, labels=category))\n",
    "df.head(1)"
   ]
  },
  {
   "cell_type": "code",
   "execution_count": 28,
   "id": "949845de",
   "metadata": {
    "execution": {
     "iopub.execute_input": "2023-05-07T08:58:07.120154Z",
     "iopub.status.busy": "2023-05-07T08:58:07.119185Z",
     "iopub.status.idle": "2023-05-07T08:58:07.193576Z",
     "shell.execute_reply": "2023-05-07T08:58:07.192098Z"
    },
    "papermill": {
     "duration": 0.096865,
     "end_time": "2023-05-07T08:58:07.196596",
     "exception": false,
     "start_time": "2023-05-07T08:58:07.099731",
     "status": "completed"
    },
    "tags": []
   },
   "outputs": [
    {
     "data": {
      "text/html": [
       "<div>\n",
       "<style scoped>\n",
       "    .dataframe tbody tr th:only-of-type {\n",
       "        vertical-align: middle;\n",
       "    }\n",
       "\n",
       "    .dataframe tbody tr th {\n",
       "        vertical-align: top;\n",
       "    }\n",
       "\n",
       "    .dataframe thead th {\n",
       "        text-align: right;\n",
       "    }\n",
       "</style>\n",
       "<table border=\"1\" class=\"dataframe\">\n",
       "  <thead>\n",
       "    <tr style=\"text-align: right;\">\n",
       "      <th>lead_time_cat</th>\n",
       "      <th>0-30</th>\n",
       "      <th>30-60</th>\n",
       "      <th>60-90</th>\n",
       "      <th>90-120</th>\n",
       "      <th>120-150</th>\n",
       "      <th>150-180</th>\n",
       "      <th>180-210</th>\n",
       "      <th>210-240</th>\n",
       "      <th>240-270</th>\n",
       "      <th>270-300</th>\n",
       "      <th>300-330</th>\n",
       "      <th>330-360</th>\n",
       "      <th>&gt;360</th>\n",
       "    </tr>\n",
       "    <tr>\n",
       "      <th>hotel</th>\n",
       "      <th></th>\n",
       "      <th></th>\n",
       "      <th></th>\n",
       "      <th></th>\n",
       "      <th></th>\n",
       "      <th></th>\n",
       "      <th></th>\n",
       "      <th></th>\n",
       "      <th></th>\n",
       "      <th></th>\n",
       "      <th></th>\n",
       "      <th></th>\n",
       "      <th></th>\n",
       "    </tr>\n",
       "  </thead>\n",
       "  <tbody>\n",
       "    <tr>\n",
       "      <th>City Hotel</th>\n",
       "      <td>24.3</td>\n",
       "      <td>38.8</td>\n",
       "      <td>41.4</td>\n",
       "      <td>46.8</td>\n",
       "      <td>45.3</td>\n",
       "      <td>52.6</td>\n",
       "      <td>49.9</td>\n",
       "      <td>51.1</td>\n",
       "      <td>58.5</td>\n",
       "      <td>73.8</td>\n",
       "      <td>75.7</td>\n",
       "      <td>82.1</td>\n",
       "      <td>72.4</td>\n",
       "    </tr>\n",
       "    <tr>\n",
       "      <th>Resort Hotel</th>\n",
       "      <td>15.1</td>\n",
       "      <td>30.8</td>\n",
       "      <td>34.7</td>\n",
       "      <td>38.8</td>\n",
       "      <td>40.8</td>\n",
       "      <td>32.8</td>\n",
       "      <td>37.3</td>\n",
       "      <td>41.8</td>\n",
       "      <td>48.1</td>\n",
       "      <td>38.6</td>\n",
       "      <td>49.5</td>\n",
       "      <td>40.2</td>\n",
       "      <td>38.8</td>\n",
       "    </tr>\n",
       "  </tbody>\n",
       "</table>\n",
       "</div>"
      ],
      "text/plain": [
       "lead_time_cat  0-30  30-60  60-90  90-120  120-150  150-180  180-210  210-240  \\\n",
       "hotel                                                                           \n",
       "City Hotel     24.3   38.8   41.4    46.8     45.3     52.6     49.9     51.1   \n",
       "Resort Hotel   15.1   30.8   34.7    38.8     40.8     32.8     37.3     41.8   \n",
       "\n",
       "lead_time_cat  240-270  270-300  300-330  330-360  >360  \n",
       "hotel                                                    \n",
       "City Hotel        58.5     73.8     75.7     82.1  72.4  \n",
       "Resort Hotel      48.1     38.6     49.5     40.2  38.8  "
      ]
     },
     "execution_count": 28,
     "metadata": {},
     "output_type": "execute_result"
    }
   ],
   "source": [
    "time_cancel = df.groupby(['hotel', 'lead_time_cat', 'is_canceled'])['is_canceled'].count().reset_index(name='total_guest')\n",
    "time_cancel = pd.pivot_table(time_cancel, index=['hotel', 'lead_time_cat'], columns='is_canceled', values='total_guest').reset_index().rename_axis(None, axis=1)\n",
    "time_cancel['cancel_pct'] = round(time_cancel[1] / (time_cancel[0] + time_cancel[1]) *100, 1)\n",
    "pd.pivot_table(time_cancel, index='hotel', columns='lead_time_cat', values='cancel_pct')"
   ]
  },
  {
   "cell_type": "code",
   "execution_count": 29,
   "id": "2bbba84e",
   "metadata": {
    "execution": {
     "iopub.execute_input": "2023-05-07T08:58:07.236053Z",
     "iopub.status.busy": "2023-05-07T08:58:07.235143Z",
     "iopub.status.idle": "2023-05-07T08:58:07.256040Z",
     "shell.execute_reply": "2023-05-07T08:58:07.254802Z"
    },
    "papermill": {
     "duration": 0.043751,
     "end_time": "2023-05-07T08:58:07.258967",
     "exception": false,
     "start_time": "2023-05-07T08:58:07.215216",
     "status": "completed"
    },
    "tags": []
   },
   "outputs": [
    {
     "data": {
      "text/html": [
       "<div>\n",
       "<style scoped>\n",
       "    .dataframe tbody tr th:only-of-type {\n",
       "        vertical-align: middle;\n",
       "    }\n",
       "\n",
       "    .dataframe tbody tr th {\n",
       "        vertical-align: top;\n",
       "    }\n",
       "\n",
       "    .dataframe thead th {\n",
       "        text-align: right;\n",
       "    }\n",
       "</style>\n",
       "<table border=\"1\" class=\"dataframe\">\n",
       "  <thead>\n",
       "    <tr style=\"text-align: right;\">\n",
       "      <th></th>\n",
       "      <th>hotel</th>\n",
       "      <th>lead_time_cat</th>\n",
       "      <th>0</th>\n",
       "      <th>1</th>\n",
       "      <th>cancel_pct</th>\n",
       "    </tr>\n",
       "  </thead>\n",
       "  <tbody>\n",
       "    <tr>\n",
       "      <th>0</th>\n",
       "      <td>City Hotel</td>\n",
       "      <td>0-30</td>\n",
       "      <td>15327</td>\n",
       "      <td>4926</td>\n",
       "      <td>24.3</td>\n",
       "    </tr>\n",
       "    <tr>\n",
       "      <th>1</th>\n",
       "      <td>City Hotel</td>\n",
       "      <td>30-60</td>\n",
       "      <td>7281</td>\n",
       "      <td>4608</td>\n",
       "      <td>38.8</td>\n",
       "    </tr>\n",
       "    <tr>\n",
       "      <th>2</th>\n",
       "      <td>City Hotel</td>\n",
       "      <td>60-90</td>\n",
       "      <td>5216</td>\n",
       "      <td>3692</td>\n",
       "      <td>41.4</td>\n",
       "    </tr>\n",
       "    <tr>\n",
       "      <th>3</th>\n",
       "      <td>City Hotel</td>\n",
       "      <td>90-120</td>\n",
       "      <td>3961</td>\n",
       "      <td>3486</td>\n",
       "      <td>46.8</td>\n",
       "    </tr>\n",
       "    <tr>\n",
       "      <th>4</th>\n",
       "      <td>City Hotel</td>\n",
       "      <td>120-150</td>\n",
       "      <td>3070</td>\n",
       "      <td>2543</td>\n",
       "      <td>45.3</td>\n",
       "    </tr>\n",
       "    <tr>\n",
       "      <th>5</th>\n",
       "      <td>City Hotel</td>\n",
       "      <td>150-180</td>\n",
       "      <td>2446</td>\n",
       "      <td>2717</td>\n",
       "      <td>52.6</td>\n",
       "    </tr>\n",
       "    <tr>\n",
       "      <th>6</th>\n",
       "      <td>City Hotel</td>\n",
       "      <td>180-210</td>\n",
       "      <td>1801</td>\n",
       "      <td>1793</td>\n",
       "      <td>49.9</td>\n",
       "    </tr>\n",
       "    <tr>\n",
       "      <th>7</th>\n",
       "      <td>City Hotel</td>\n",
       "      <td>210-240</td>\n",
       "      <td>1225</td>\n",
       "      <td>1280</td>\n",
       "      <td>51.1</td>\n",
       "    </tr>\n",
       "    <tr>\n",
       "      <th>8</th>\n",
       "      <td>City Hotel</td>\n",
       "      <td>240-270</td>\n",
       "      <td>882</td>\n",
       "      <td>1242</td>\n",
       "      <td>58.5</td>\n",
       "    </tr>\n",
       "    <tr>\n",
       "      <th>9</th>\n",
       "      <td>City Hotel</td>\n",
       "      <td>270-300</td>\n",
       "      <td>660</td>\n",
       "      <td>1859</td>\n",
       "      <td>73.8</td>\n",
       "    </tr>\n",
       "    <tr>\n",
       "      <th>10</th>\n",
       "      <td>City Hotel</td>\n",
       "      <td>300-330</td>\n",
       "      <td>514</td>\n",
       "      <td>1604</td>\n",
       "      <td>75.7</td>\n",
       "    </tr>\n",
       "    <tr>\n",
       "      <th>11</th>\n",
       "      <td>City Hotel</td>\n",
       "      <td>330-360</td>\n",
       "      <td>219</td>\n",
       "      <td>1004</td>\n",
       "      <td>82.1</td>\n",
       "    </tr>\n",
       "    <tr>\n",
       "      <th>12</th>\n",
       "      <td>City Hotel</td>\n",
       "      <td>&gt;360</td>\n",
       "      <td>790</td>\n",
       "      <td>2075</td>\n",
       "      <td>72.4</td>\n",
       "    </tr>\n",
       "    <tr>\n",
       "      <th>13</th>\n",
       "      <td>Resort Hotel</td>\n",
       "      <td>0-30</td>\n",
       "      <td>10279</td>\n",
       "      <td>1829</td>\n",
       "      <td>15.1</td>\n",
       "    </tr>\n",
       "    <tr>\n",
       "      <th>14</th>\n",
       "      <td>Resort Hotel</td>\n",
       "      <td>30-60</td>\n",
       "      <td>3515</td>\n",
       "      <td>1566</td>\n",
       "      <td>30.8</td>\n",
       "    </tr>\n",
       "    <tr>\n",
       "      <th>15</th>\n",
       "      <td>Resort Hotel</td>\n",
       "      <td>60-90</td>\n",
       "      <td>2400</td>\n",
       "      <td>1275</td>\n",
       "      <td>34.7</td>\n",
       "    </tr>\n",
       "    <tr>\n",
       "      <th>16</th>\n",
       "      <td>Resort Hotel</td>\n",
       "      <td>90-120</td>\n",
       "      <td>1828</td>\n",
       "      <td>1159</td>\n",
       "      <td>38.8</td>\n",
       "    </tr>\n",
       "    <tr>\n",
       "      <th>17</th>\n",
       "      <td>Resort Hotel</td>\n",
       "      <td>120-150</td>\n",
       "      <td>1499</td>\n",
       "      <td>1032</td>\n",
       "      <td>40.8</td>\n",
       "    </tr>\n",
       "    <tr>\n",
       "      <th>18</th>\n",
       "      <td>Resort Hotel</td>\n",
       "      <td>150-180</td>\n",
       "      <td>1814</td>\n",
       "      <td>884</td>\n",
       "      <td>32.8</td>\n",
       "    </tr>\n",
       "    <tr>\n",
       "      <th>19</th>\n",
       "      <td>Resort Hotel</td>\n",
       "      <td>180-210</td>\n",
       "      <td>1296</td>\n",
       "      <td>770</td>\n",
       "      <td>37.3</td>\n",
       "    </tr>\n",
       "    <tr>\n",
       "      <th>20</th>\n",
       "      <td>Resort Hotel</td>\n",
       "      <td>210-240</td>\n",
       "      <td>1051</td>\n",
       "      <td>754</td>\n",
       "      <td>41.8</td>\n",
       "    </tr>\n",
       "    <tr>\n",
       "      <th>21</th>\n",
       "      <td>Resort Hotel</td>\n",
       "      <td>240-270</td>\n",
       "      <td>667</td>\n",
       "      <td>619</td>\n",
       "      <td>48.1</td>\n",
       "    </tr>\n",
       "    <tr>\n",
       "      <th>22</th>\n",
       "      <td>Resort Hotel</td>\n",
       "      <td>270-300</td>\n",
       "      <td>556</td>\n",
       "      <td>350</td>\n",
       "      <td>38.6</td>\n",
       "    </tr>\n",
       "    <tr>\n",
       "      <th>23</th>\n",
       "      <td>Resort Hotel</td>\n",
       "      <td>300-330</td>\n",
       "      <td>322</td>\n",
       "      <td>315</td>\n",
       "      <td>49.5</td>\n",
       "    </tr>\n",
       "    <tr>\n",
       "      <th>24</th>\n",
       "      <td>Resort Hotel</td>\n",
       "      <td>330-360</td>\n",
       "      <td>295</td>\n",
       "      <td>198</td>\n",
       "      <td>40.2</td>\n",
       "    </tr>\n",
       "    <tr>\n",
       "      <th>25</th>\n",
       "      <td>Resort Hotel</td>\n",
       "      <td>&gt;360</td>\n",
       "      <td>337</td>\n",
       "      <td>214</td>\n",
       "      <td>38.8</td>\n",
       "    </tr>\n",
       "  </tbody>\n",
       "</table>\n",
       "</div>"
      ],
      "text/plain": [
       "           hotel lead_time_cat      0     1  cancel_pct\n",
       "0     City Hotel          0-30  15327  4926        24.3\n",
       "1     City Hotel         30-60   7281  4608        38.8\n",
       "2     City Hotel         60-90   5216  3692        41.4\n",
       "3     City Hotel        90-120   3961  3486        46.8\n",
       "4     City Hotel       120-150   3070  2543        45.3\n",
       "5     City Hotel       150-180   2446  2717        52.6\n",
       "6     City Hotel       180-210   1801  1793        49.9\n",
       "7     City Hotel       210-240   1225  1280        51.1\n",
       "8     City Hotel       240-270    882  1242        58.5\n",
       "9     City Hotel       270-300    660  1859        73.8\n",
       "10    City Hotel       300-330    514  1604        75.7\n",
       "11    City Hotel       330-360    219  1004        82.1\n",
       "12    City Hotel          >360    790  2075        72.4\n",
       "13  Resort Hotel          0-30  10279  1829        15.1\n",
       "14  Resort Hotel         30-60   3515  1566        30.8\n",
       "15  Resort Hotel         60-90   2400  1275        34.7\n",
       "16  Resort Hotel        90-120   1828  1159        38.8\n",
       "17  Resort Hotel       120-150   1499  1032        40.8\n",
       "18  Resort Hotel       150-180   1814   884        32.8\n",
       "19  Resort Hotel       180-210   1296   770        37.3\n",
       "20  Resort Hotel       210-240   1051   754        41.8\n",
       "21  Resort Hotel       240-270    667   619        48.1\n",
       "22  Resort Hotel       270-300    556   350        38.6\n",
       "23  Resort Hotel       300-330    322   315        49.5\n",
       "24  Resort Hotel       330-360    295   198        40.2\n",
       "25  Resort Hotel          >360    337   214        38.8"
      ]
     },
     "execution_count": 29,
     "metadata": {},
     "output_type": "execute_result"
    }
   ],
   "source": [
    "time_cancel"
   ]
  },
  {
   "cell_type": "code",
   "execution_count": 30,
   "id": "28fc8508",
   "metadata": {
    "execution": {
     "iopub.execute_input": "2023-05-07T08:58:07.298162Z",
     "iopub.status.busy": "2023-05-07T08:58:07.297660Z",
     "iopub.status.idle": "2023-05-07T08:58:07.870688Z",
     "shell.execute_reply": "2023-05-07T08:58:07.869273Z"
    },
    "papermill": {
     "duration": 0.596638,
     "end_time": "2023-05-07T08:58:07.874041",
     "exception": false,
     "start_time": "2023-05-07T08:58:07.277403",
     "status": "completed"
    },
    "tags": []
   },
   "outputs": [
    {
     "data": {
      "text/plain": [
       "<matplotlib.patches.Polygon at 0x78ee08380410>"
      ]
     },
     "execution_count": 30,
     "metadata": {},
     "output_type": "execute_result"
    },
    {
     "data": {
      "image/png": "[encoded data removed]",
      "text/plain": [
       "<Figure size 1500x600 with 1 Axes>"
      ]
     },
     "metadata": {},
     "output_type": "display_data"
    }
   ],
   "source": [
    "plt.figure(figsize=(15,6))\n",
    "sns.barplot(data=time_cancel, x='lead_time_cat', y='cancel_pct', hue='hotel')\n",
    "\n",
    "plt.title('Lead Time on Hotel Bookings Cancellation Rate')\n",
    "plt.xlabel('Lead Time (days)')\n",
    "plt.ylabel('Cancellation Rate')\n",
    "\n",
    "plt.ylim(0,100)\n",
    "plt.xlim(-0.5,12.5)\n",
    "plt.text(10, 90, s='Around 1 Year', fontsize=13, color='red')\n",
    "plt.axvspan(8.5, 12.5, color='red', alpha=0.1)"
   ]
  },
  {
   "cell_type": "markdown",
   "id": "2b67f1e6",
   "metadata": {
    "papermill": {
     "duration": 0.020317,
     "end_time": "2023-05-07T08:58:07.913936",
     "exception": false,
     "start_time": "2023-05-07T08:58:07.893619",
     "status": "completed"
    },
    "tags": []
   },
   "source": [
    "Generally, City Hotel has higher cancellation rates than Resort Hotel. Especially when customers who booked in City Hotel 10 months or later have more than 70% cancellation rates. On the other hand, in Resort Hotel, customers who booked 10 months or later only have about 40% cancellation rates. Meanwhile, customers who booked less than 1 month have the lowest cancellation rates."
   ]
  }
 ],
 "metadata": {
  "kernelspec": {
   "display_name": "Python 3",
   "language": "python",
   "name": "python3"
  },
  "language_info": {
   "codemirror_mode": {
    "name": "ipython",
    "version": 3
   },
   "file_extension": ".py",
   "mimetype": "text/x-python",
   "name": "python",
   "nbconvert_exporter": "python",
   "pygments_lexer": "ipython3",
   "version": "3.7.12"
  },
  "papermill": {
   "default_parameters": {},
   "duration": 22.661938,
   "end_time": "2023-05-07T08:58:08.861666",
   "environment_variables": {},
   "exception": null,
   "input_path": "__notebook__.ipynb",
   "output_path": "__notebook__.ipynb",
   "parameters": {},
   "start_time": "2023-05-07T08:57:46.199728",
   "version": "2.4.0"
  }
 },
 "nbformat": 4,
 "nbformat_minor": 5
}
